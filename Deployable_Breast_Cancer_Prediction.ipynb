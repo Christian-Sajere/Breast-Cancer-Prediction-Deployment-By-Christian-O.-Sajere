{
 "cells": [
  {
   "cell_type": "code",
   "execution_count": 1,
   "id": "df83b500",
   "metadata": {},
   "outputs": [],
   "source": [
    "import warnings\n",
    "warnings.filterwarnings('ignore')"
   ]
  },
  {
   "cell_type": "code",
   "execution_count": 2,
   "id": "7de3bbdb",
   "metadata": {},
   "outputs": [],
   "source": [
    "#import libraries\n",
    "import numpy as np\n",
    "import pandas as pd\n",
    "import matplotlib.pyplot as plt\n",
    "import seaborn as sns\n",
    "\n",
    "import ipywidgets as widgets\n",
    "from ipywidgets import HTML\n",
    "from IPython.display import display, clear_output"
   ]
  },
  {
   "cell_type": "code",
   "execution_count": 3,
   "id": "f9798ad7",
   "metadata": {},
   "outputs": [],
   "source": [
    "#load the data\n",
    "df=pd.read_csv('data.csv')"
   ]
  },
  {
   "cell_type": "code",
   "execution_count": 4,
   "id": "e653da66",
   "metadata": {},
   "outputs": [],
   "source": [
    "#drop all the colums with empty values\n",
    "df=df.dropna(axis=1)"
   ]
  },
  {
   "cell_type": "code",
   "execution_count": 5,
   "id": "3f4950a1",
   "metadata": {},
   "outputs": [],
   "source": [
    "#Encode the categorical data value\n",
    "from sklearn.preprocessing import LabelEncoder\n",
    "labelencoder_Y = LabelEncoder()\n",
    "df.iloc[:,1]=labelencoder_Y.fit_transform(df.iloc[:,1].values)"
   ]
  },
  {
   "cell_type": "code",
   "execution_count": 6,
   "id": "805b4099",
   "metadata": {},
   "outputs": [],
   "source": [
    "#split the dataset into independent (X) and dependent column (Y) data sets.\n",
    "#Y has the dagonostic whether the patient have cancer or not.While X have the features for cancer detection\n",
    "X = df.iloc[:,2:31].values\n",
    "Y=df.iloc[:,1].values\n"
   ]
  },
  {
   "cell_type": "code",
   "execution_count": 7,
   "id": "990a6a86",
   "metadata": {},
   "outputs": [],
   "source": [
    "#Split the dataset into 75% training and 25% testing\n",
    "from sklearn.model_selection import train_test_split\n",
    "X_train, X_test, Y_train, Y_test=train_test_split(X, Y, test_size=0.25 ,random_state =0)"
   ]
  },
  {
   "cell_type": "code",
   "execution_count": 8,
   "id": "0551f9d2",
   "metadata": {},
   "outputs": [],
   "source": [
    "#Scale the data (Feature scaling)\n",
    "from sklearn.preprocessing import StandardScaler\n",
    "sc=StandardScaler()\n",
    "X_train=sc.fit_transform(X_train)\n",
    "X_test=sc.fit_transform(X_test)\n"
   ]
  },
  {
   "cell_type": "code",
   "execution_count": 9,
   "id": "87ba5339",
   "metadata": {},
   "outputs": [],
   "source": [
    "#create a function for the models\n",
    "def models(X_train, Y_train):\n",
    "    \n",
    "    #logistic Regression\n",
    "    from sklearn.linear_model import LogisticRegression\n",
    "    log=LogisticRegression(random_state=0)\n",
    "    log.fit(X_train, Y_train)\n",
    "    \n",
    "    #Decision Tree classicifier\n",
    "    from sklearn.tree import DecisionTreeClassifier\n",
    "    tree=DecisionTreeClassifier(criterion= 'entropy', random_state=0)\n",
    "    tree.fit(X_train,Y_train)\n",
    "    \n",
    "    #Random Forest Classifier\n",
    "    from sklearn.ensemble import RandomForestClassifier\n",
    "    forest= RandomForestClassifier(n_estimators = 10, criterion='entropy', random_state=0)\n",
    "    forest.fit(X_train,Y_train)\n",
    "    \n",
    "    #Print the models Accuracy of the data\n",
    "    print('[0] Logistic Regression training accuracy:',log.score(X_train, Y_train))\n",
    "    print('[1] Decision Tree training accuracy:',tree.score(X_train, Y_train))\n",
    "    print('[2] Random Forest Classifier training accuracy:',forest.score(X_train, Y_train))\n",
    "    \n",
    "    return log, tree,forest"
   ]
  },
  {
   "cell_type": "code",
   "execution_count": 10,
   "id": "5fb59aeb",
   "metadata": {},
   "outputs": [
    {
     "data": {
      "application/vnd.jupyter.widget-view+json": {
       "model_id": "c9c350b50ceb44669c42ad302d9bd3db",
       "version_major": 2,
       "version_minor": 0
      },
      "text/plain": [
       "Image(value=b'\\x89PNG\\r\\n\\x1a\\n\\x00\\x00\\x00\\rIHDR\\x00\\x00\\x05\\x00\\x00\\x00\\x05\\x00\\x08\\x06\\x00\\x00\\x00\\x18\\xe4\\…"
      ]
     },
     "metadata": {},
     "output_type": "display_data"
    },
    {
     "data": {
      "application/vnd.jupyter.widget-view+json": {
       "model_id": "2dbfeb0bf0044d6897ce92153b26e71b",
       "version_major": 2,
       "version_minor": 0
      },
      "text/plain": [
       "HTML(value='<h1>Breast Cancer Prediction Software</h1>')"
      ]
     },
     "metadata": {},
     "output_type": "display_data"
    }
   ],
   "source": [
    "images=open('cancer-2D_image.png','rb').read()\n",
    "wi1 = widgets.Image(value=images, format='png', width=300, height=400)\n",
    "\n",
    "h1=HTML(value='<h1>Breast Cancer Prediction Software</h1>')\n",
    "display(wi1,h1)"
   ]
  },
  {
   "cell_type": "code",
   "execution_count": 11,
   "id": "85cb4529",
   "metadata": {},
   "outputs": [
    {
     "name": "stdout",
     "output_type": "stream",
     "text": [
      "[0] Logistic Regression training accuracy: 0.9906103286384976\n",
      "[1] Decision Tree training accuracy: 1.0\n",
      "[2] Random Forest Classifier training accuracy: 0.9953051643192489\n"
     ]
    }
   ],
   "source": [
    "# here we will be getting of the models\n",
    "model = models(X_train, Y_train)"
   ]
  },
  {
   "cell_type": "code",
   "execution_count": 12,
   "id": "4eccc57f",
   "metadata": {},
   "outputs": [],
   "source": [
    "#Show another way to get metrics of the models\n",
    "#from sklearn.metrics import classification_report\n",
    "#from sklearn.metrics import accuracy_score\n",
    "\n",
    "#for i in range (len (model)): \n",
    "  #  print('Model',i)\n",
    "  #  print(classification_report(Y_test, model[i].predict(X_test)))\n",
    "   # print(accuracy_score(Y_test, model[i].predict(X_test)))\n",
    "   # print()\n",
    "    "
   ]
  },
  {
   "cell_type": "code",
   "execution_count": 13,
   "id": "b430f5e0",
   "metadata": {},
   "outputs": [],
   "source": [
    "#Print the prediction of the Radmon Forest Classifer Model\n",
    "pred = model[2].predict(X_test)\n"
   ]
  },
  {
   "cell_type": "code",
   "execution_count": 14,
   "id": "824da248",
   "metadata": {},
   "outputs": [
    {
     "data": {
      "application/vnd.jupyter.widget-view+json": {
       "model_id": "0cb91ebaee1a42c4a18d1abba6879bac",
       "version_major": 2,
       "version_minor": 0
      },
      "text/plain": [
       "Label(value='radius mean')"
      ]
     },
     "metadata": {},
     "output_type": "display_data"
    },
    {
     "data": {
      "application/vnd.jupyter.widget-view+json": {
       "model_id": "47b6889eba444ef58eab956781dd10b2",
       "version_major": 2,
       "version_minor": 0
      },
      "text/plain": [
       "FloatText(value=6.981)"
      ]
     },
     "metadata": {},
     "output_type": "display_data"
    },
    {
     "data": {
      "application/vnd.jupyter.widget-view+json": {
       "model_id": "8980ab95dd1e47178426f3d1ff5a449d",
       "version_major": 2,
       "version_minor": 0
      },
      "text/plain": [
       "Label(value='texture mean')"
      ]
     },
     "metadata": {},
     "output_type": "display_data"
    },
    {
     "data": {
      "application/vnd.jupyter.widget-view+json": {
       "model_id": "a93cf472a1684b769444b9684dff6e31",
       "version_major": 2,
       "version_minor": 0
      },
      "text/plain": [
       "FloatText(value=9.71)"
      ]
     },
     "metadata": {},
     "output_type": "display_data"
    },
    {
     "data": {
      "application/vnd.jupyter.widget-view+json": {
       "model_id": "ca5f9babbcdc40959895a4f2686a1777",
       "version_major": 2,
       "version_minor": 0
      },
      "text/plain": [
       "Label(value='perimeter mean')"
      ]
     },
     "metadata": {},
     "output_type": "display_data"
    },
    {
     "data": {
      "application/vnd.jupyter.widget-view+json": {
       "model_id": "ed336eeafc63407bac9cdebb791e2b03",
       "version_major": 2,
       "version_minor": 0
      },
      "text/plain": [
       "FloatText(value=43.79)"
      ]
     },
     "metadata": {},
     "output_type": "display_data"
    },
    {
     "data": {
      "application/vnd.jupyter.widget-view+json": {
       "model_id": "62f1e66cab80445a81f6339fb6d453e6",
       "version_major": 2,
       "version_minor": 0
      },
      "text/plain": [
       "Label(value='area mean')"
      ]
     },
     "metadata": {},
     "output_type": "display_data"
    },
    {
     "data": {
      "application/vnd.jupyter.widget-view+json": {
       "model_id": "96930249b4c24ad5816e5c50da19492e",
       "version_major": 2,
       "version_minor": 0
      },
      "text/plain": [
       "FloatText(value=143.5)"
      ]
     },
     "metadata": {},
     "output_type": "display_data"
    },
    {
     "data": {
      "application/vnd.jupyter.widget-view+json": {
       "model_id": "62f1e66cab80445a81f6339fb6d453e6",
       "version_major": 2,
       "version_minor": 0
      },
      "text/plain": [
       "Label(value='area mean')"
      ]
     },
     "metadata": {},
     "output_type": "display_data"
    },
    {
     "data": {
      "application/vnd.jupyter.widget-view+json": {
       "model_id": "96930249b4c24ad5816e5c50da19492e",
       "version_major": 2,
       "version_minor": 0
      },
      "text/plain": [
       "FloatText(value=143.5)"
      ]
     },
     "metadata": {},
     "output_type": "display_data"
    },
    {
     "data": {
      "application/vnd.jupyter.widget-view+json": {
       "model_id": "d665dda706354b838aa44942101c068a",
       "version_major": 2,
       "version_minor": 0
      },
      "text/plain": [
       "Label(value='compactness mean')"
      ]
     },
     "metadata": {},
     "output_type": "display_data"
    },
    {
     "data": {
      "application/vnd.jupyter.widget-view+json": {
       "model_id": "7612e493c6e445bebd371a0a559f0da3",
       "version_major": 2,
       "version_minor": 0
      },
      "text/plain": [
       "FloatText(value=0.01938)"
      ]
     },
     "metadata": {},
     "output_type": "display_data"
    },
    {
     "data": {
      "application/vnd.jupyter.widget-view+json": {
       "model_id": "158224d8b16d4fe08999ff2b85c7fce5",
       "version_major": 2,
       "version_minor": 0
      },
      "text/plain": [
       "Label(value='concavity mean')"
      ]
     },
     "metadata": {},
     "output_type": "display_data"
    },
    {
     "data": {
      "application/vnd.jupyter.widget-view+json": {
       "model_id": "cbec0ff371c54ec4ac0354586bcfb864",
       "version_major": 2,
       "version_minor": 0
      },
      "text/plain": [
       "FloatText(value=0.0)"
      ]
     },
     "metadata": {},
     "output_type": "display_data"
    },
    {
     "data": {
      "application/vnd.jupyter.widget-view+json": {
       "model_id": "61095f9769514ac2b57f9826c4ec04a0",
       "version_major": 2,
       "version_minor": 0
      },
      "text/plain": [
       "Label(value='concave points mean')"
      ]
     },
     "metadata": {},
     "output_type": "display_data"
    },
    {
     "data": {
      "application/vnd.jupyter.widget-view+json": {
       "model_id": "d7d3d62b088546a68d345affd5a5fbbd",
       "version_major": 2,
       "version_minor": 0
      },
      "text/plain": [
       "FloatText(value=0.0)"
      ]
     },
     "metadata": {},
     "output_type": "display_data"
    },
    {
     "data": {
      "application/vnd.jupyter.widget-view+json": {
       "model_id": "a47e4a2e336148988eddf471f160e5e7",
       "version_major": 2,
       "version_minor": 0
      },
      "text/plain": [
       "Label(value='symmetry mean')"
      ]
     },
     "metadata": {},
     "output_type": "display_data"
    },
    {
     "data": {
      "application/vnd.jupyter.widget-view+json": {
       "model_id": "e4a66eb372e24bf29381ad5a95538efd",
       "version_major": 2,
       "version_minor": 0
      },
      "text/plain": [
       "FloatText(value=0.106)"
      ]
     },
     "metadata": {},
     "output_type": "display_data"
    },
    {
     "data": {
      "application/vnd.jupyter.widget-view+json": {
       "model_id": "160efa1b842f43528a1e4a78a2009f18",
       "version_major": 2,
       "version_minor": 0
      },
      "text/plain": [
       "Label(value='fractal dimension mean')"
      ]
     },
     "metadata": {},
     "output_type": "display_data"
    },
    {
     "data": {
      "application/vnd.jupyter.widget-view+json": {
       "model_id": "55e1a8cebed54701a759b4e5f0df0d95",
       "version_major": 2,
       "version_minor": 0
      },
      "text/plain": [
       "FloatText(value=0.04996)"
      ]
     },
     "metadata": {},
     "output_type": "display_data"
    }
   ],
   "source": [
    "radius_meantext=widgets.Label('radius mean')                  \n",
    "radius_mean=widgets.FloatText(value=6.981)\n",
    "display(radius_meantext,radius_mean)\n",
    "\n",
    "texture_meantext=widgets.Label('texture mean')                   \n",
    "texture_mean=widgets.FloatText(value=9.71)\n",
    "display(texture_meantext,texture_mean)\n",
    "\n",
    "perimeter_meantext=widgets.Label('perimeter mean')                \n",
    "perimeter_mean=widgets.FloatText(value=43.79)\n",
    "display(perimeter_meantext,perimeter_mean)\n",
    "\n",
    "area_meantext=widgets.Label('area mean')\n",
    "area_mean=widgets.FloatText(value=143.5)\n",
    "display(area_meantext,area_mean)\n",
    "\n",
    "smoothness_meantext=widgets.Label('smoothness mean')\n",
    "smoothness_mean=widgets.FloatText(value=0.05263)\n",
    "display(area_meantext,area_mean)\n",
    "\n",
    "compactness_meantext=widgets.Label('compactness mean')\n",
    "compactness_mean=widgets.FloatText(value=0.01938)\n",
    "display(compactness_meantext,compactness_mean)\n",
    "\n",
    "concavity_meantext=widgets.Label('concavity mean')\n",
    "concavity_mean=widgets.FloatText(value=0.0)\n",
    "display(concavity_meantext,concavity_mean)\n",
    "\n",
    "concave_points_meantext=widgets.Label('concave points mean')\n",
    "concave_points_mean=widgets.FloatText(value=0.0)\n",
    "display(concave_points_meantext,concave_points_mean)\n",
    "\n",
    "symmetry_meantext=widgets.Label('symmetry mean')\n",
    "symmetry_mean=widgets.FloatText(value=0.106)\n",
    "display(symmetry_meantext,symmetry_mean)\n",
    "\n",
    "fractal_dimension_meantext=widgets.Label('fractal dimension mean')\n",
    "fractal_dimension_mean=widgets.FloatText(value=0.04996)\n",
    "display(fractal_dimension_meantext,fractal_dimension_mean)"
   ]
  },
  {
   "cell_type": "code",
   "execution_count": 15,
   "id": "8939b27e",
   "metadata": {},
   "outputs": [
    {
     "data": {
      "application/vnd.jupyter.widget-view+json": {
       "model_id": "1130159c2677457ea7ca88e3a62491b5",
       "version_major": 2,
       "version_minor": 0
      },
      "text/plain": [
       "Label(value='radius se')"
      ]
     },
     "metadata": {},
     "output_type": "display_data"
    },
    {
     "data": {
      "application/vnd.jupyter.widget-view+json": {
       "model_id": "fb16e9b66c6741828fd9c4efb55943e7",
       "version_major": 2,
       "version_minor": 0
      },
      "text/plain": [
       "FloatText(value=0.1115)"
      ]
     },
     "metadata": {},
     "output_type": "display_data"
    },
    {
     "data": {
      "application/vnd.jupyter.widget-view+json": {
       "model_id": "acdb572b272c4c9f8268681f1068476f",
       "version_major": 2,
       "version_minor": 0
      },
      "text/plain": [
       "Label(value='texture se')"
      ]
     },
     "metadata": {},
     "output_type": "display_data"
    },
    {
     "data": {
      "application/vnd.jupyter.widget-view+json": {
       "model_id": "609bb19258db41b2b173532d3782603e",
       "version_major": 2,
       "version_minor": 0
      },
      "text/plain": [
       "FloatText(value=0.3602)"
      ]
     },
     "metadata": {},
     "output_type": "display_data"
    },
    {
     "data": {
      "application/vnd.jupyter.widget-view+json": {
       "model_id": "a57ab6fad0b74073b99e448d13d09418",
       "version_major": 2,
       "version_minor": 0
      },
      "text/plain": [
       "Label(value='perimeter se')"
      ]
     },
     "metadata": {},
     "output_type": "display_data"
    },
    {
     "data": {
      "application/vnd.jupyter.widget-view+json": {
       "model_id": "2cba84256134497585cfce6a9eb2671d",
       "version_major": 2,
       "version_minor": 0
      },
      "text/plain": [
       "FloatText(value=0.757)"
      ]
     },
     "metadata": {},
     "output_type": "display_data"
    },
    {
     "data": {
      "application/vnd.jupyter.widget-view+json": {
       "model_id": "7dde64f02f094d3b93b11f8355f7b751",
       "version_major": 2,
       "version_minor": 0
      },
      "text/plain": [
       "Label(value='area se')"
      ]
     },
     "metadata": {},
     "output_type": "display_data"
    },
    {
     "data": {
      "application/vnd.jupyter.widget-view+json": {
       "model_id": "58ff7605d1594ecd994bc2166e5137f6",
       "version_major": 2,
       "version_minor": 0
      },
      "text/plain": [
       "FloatText(value=143.5)"
      ]
     },
     "metadata": {},
     "output_type": "display_data"
    },
    {
     "data": {
      "application/vnd.jupyter.widget-view+json": {
       "model_id": "c5384ad073704834b0517d9974437537",
       "version_major": 2,
       "version_minor": 0
      },
      "text/plain": [
       "Label(value='smoothness se')"
      ]
     },
     "metadata": {},
     "output_type": "display_data"
    },
    {
     "data": {
      "application/vnd.jupyter.widget-view+json": {
       "model_id": "c1ae4e68a50e471fb605dbd51dc4c74e",
       "version_major": 2,
       "version_minor": 0
      },
      "text/plain": [
       "FloatText(value=0.001713)"
      ]
     },
     "metadata": {},
     "output_type": "display_data"
    },
    {
     "data": {
      "application/vnd.jupyter.widget-view+json": {
       "model_id": "c806cec2f2c94a66a9644225508d2b4c",
       "version_major": 2,
       "version_minor": 0
      },
      "text/plain": [
       "Label(value='compactness se')"
      ]
     },
     "metadata": {},
     "output_type": "display_data"
    },
    {
     "data": {
      "application/vnd.jupyter.widget-view+json": {
       "model_id": "376ec7cb51954e01a7b8131c1b179605",
       "version_major": 2,
       "version_minor": 0
      },
      "text/plain": [
       "FloatText(value=0.002252)"
      ]
     },
     "metadata": {},
     "output_type": "display_data"
    },
    {
     "data": {
      "application/vnd.jupyter.widget-view+json": {
       "model_id": "0e3a13b35d184d9985a93d5f063e828b",
       "version_major": 2,
       "version_minor": 0
      },
      "text/plain": [
       "Label(value='concavity se')"
      ]
     },
     "metadata": {},
     "output_type": "display_data"
    },
    {
     "data": {
      "application/vnd.jupyter.widget-view+json": {
       "model_id": "61936e39514e4967b28df5f2a1c33bbc",
       "version_major": 2,
       "version_minor": 0
      },
      "text/plain": [
       "FloatText(value=0.0)"
      ]
     },
     "metadata": {},
     "output_type": "display_data"
    },
    {
     "data": {
      "application/vnd.jupyter.widget-view+json": {
       "model_id": "0211d619d65d45cea088f3237cb80953",
       "version_major": 2,
       "version_minor": 0
      },
      "text/plain": [
       "Label(value='concave points se')"
      ]
     },
     "metadata": {},
     "output_type": "display_data"
    },
    {
     "data": {
      "application/vnd.jupyter.widget-view+json": {
       "model_id": "9fda8708de1e4fe189d86d04c9dad4aa",
       "version_major": 2,
       "version_minor": 0
      },
      "text/plain": [
       "FloatText(value=0.0)"
      ]
     },
     "metadata": {},
     "output_type": "display_data"
    },
    {
     "data": {
      "application/vnd.jupyter.widget-view+json": {
       "model_id": "a7e0a57351394d778bb10ae60e41ff7e",
       "version_major": 2,
       "version_minor": 0
      },
      "text/plain": [
       "Label(value='symmetry se')"
      ]
     },
     "metadata": {},
     "output_type": "display_data"
    },
    {
     "data": {
      "application/vnd.jupyter.widget-view+json": {
       "model_id": "7ae5947c9f904a88a029d7e4de70accd",
       "version_major": 2,
       "version_minor": 0
      },
      "text/plain": [
       "FloatText(value=0.007882)"
      ]
     },
     "metadata": {},
     "output_type": "display_data"
    },
    {
     "data": {
      "application/vnd.jupyter.widget-view+json": {
       "model_id": "70fae6c2d101471a97c3612494b52df5",
       "version_major": 2,
       "version_minor": 0
      },
      "text/plain": [
       "Label(value='fractal dimension se')"
      ]
     },
     "metadata": {},
     "output_type": "display_data"
    },
    {
     "data": {
      "application/vnd.jupyter.widget-view+json": {
       "model_id": "da990658643748f99f61e8dffafb41af",
       "version_major": 2,
       "version_minor": 0
      },
      "text/plain": [
       "FloatText(value=0.000895)"
      ]
     },
     "metadata": {},
     "output_type": "display_data"
    }
   ],
   "source": [
    "radius_setext=widgets.Label('radius se')                  \n",
    "radius_se=widgets.FloatText(value=0.1115)\n",
    "display(radius_setext,radius_se)\n",
    "\n",
    "texture_setext=widgets.Label('texture se')                   \n",
    "texture_se=widgets.FloatText(value=0.3602)\n",
    "display(texture_setext,texture_se)\n",
    "\n",
    "perimeter_setext=widgets.Label('perimeter se')                \n",
    "perimeter_se=widgets.FloatText(value=0.757)\n",
    "display(perimeter_setext,perimeter_se)\n",
    "\n",
    "area_setext=widgets.Label('area se')\n",
    "area_se=widgets.FloatText(value=143.5)\n",
    "display(area_setext,area_se)\n",
    "\n",
    "smoothness_setext=widgets.Label('smoothness se')\n",
    "smoothness_se=widgets.FloatText(value=0.001713)\n",
    "display(smoothness_setext,smoothness_se)\n",
    "\n",
    "compactness_setext=widgets.Label('compactness se')\n",
    "compactness_se=widgets.FloatText(value=0.002252)\n",
    "display(compactness_setext,compactness_se)\n",
    "\n",
    "concavity_setext=widgets.Label('concavity se')\n",
    "concavity_se=widgets.FloatText(value=0.0)\n",
    "display(concavity_setext,concavity_se)\n",
    "\n",
    "concave_points_setext=widgets.Label('concave points se')\n",
    "concave_points_se=widgets.FloatText(value=0.0)\n",
    "display(concave_points_setext,concave_points_se)\n",
    "\n",
    "symmetry_setext=widgets.Label('symmetry se')\n",
    "symmetry_se=widgets.FloatText(value=0.007882)\n",
    "display(symmetry_setext,symmetry_se)\n",
    "\n",
    "fractal_dimension_setext=widgets.Label('fractal dimension se')\n",
    "fractal_dimension_se=widgets.FloatText(value=0.000895)\n",
    "display(fractal_dimension_setext,fractal_dimension_se)"
   ]
  },
  {
   "cell_type": "code",
   "execution_count": 16,
   "id": "ed526e3f",
   "metadata": {},
   "outputs": [
    {
     "data": {
      "application/vnd.jupyter.widget-view+json": {
       "model_id": "a9d160dfa54444b9a4ddc3c646303d41",
       "version_major": 2,
       "version_minor": 0
      },
      "text/plain": [
       "Label(value='radius worst')"
      ]
     },
     "metadata": {},
     "output_type": "display_data"
    },
    {
     "data": {
      "application/vnd.jupyter.widget-view+json": {
       "model_id": "2a44db80aaa44447aadef844e1f5cbd3",
       "version_major": 2,
       "version_minor": 0
      },
      "text/plain": [
       "FloatText(value=7.93)"
      ]
     },
     "metadata": {},
     "output_type": "display_data"
    },
    {
     "data": {
      "application/vnd.jupyter.widget-view+json": {
       "model_id": "1107d2cb984e4acea937736b6e6be2cc",
       "version_major": 2,
       "version_minor": 0
      },
      "text/plain": [
       "Label(value='texture worst')"
      ]
     },
     "metadata": {},
     "output_type": "display_data"
    },
    {
     "data": {
      "application/vnd.jupyter.widget-view+json": {
       "model_id": "644e863f94774659bb1af0999509d683",
       "version_major": 2,
       "version_minor": 0
      },
      "text/plain": [
       "FloatText(value=12.02)"
      ]
     },
     "metadata": {},
     "output_type": "display_data"
    },
    {
     "data": {
      "application/vnd.jupyter.widget-view+json": {
       "model_id": "e8c380d1ffb94e69868b3f7a823eb180",
       "version_major": 2,
       "version_minor": 0
      },
      "text/plain": [
       "Label(value='perimeter worst')"
      ]
     },
     "metadata": {},
     "output_type": "display_data"
    },
    {
     "data": {
      "application/vnd.jupyter.widget-view+json": {
       "model_id": "050feefcfe97413c8104327900b86615",
       "version_major": 2,
       "version_minor": 0
      },
      "text/plain": [
       "FloatText(value=50.41)"
      ]
     },
     "metadata": {},
     "output_type": "display_data"
    },
    {
     "data": {
      "application/vnd.jupyter.widget-view+json": {
       "model_id": "bec82306326949608383f18a10ed9fe8",
       "version_major": 2,
       "version_minor": 0
      },
      "text/plain": [
       "Label(value='area worst')"
      ]
     },
     "metadata": {},
     "output_type": "display_data"
    },
    {
     "data": {
      "application/vnd.jupyter.widget-view+json": {
       "model_id": "c5896df612ac4a2e99b5c0dfef528240",
       "version_major": 2,
       "version_minor": 0
      },
      "text/plain": [
       "FloatText(value=185.2)"
      ]
     },
     "metadata": {},
     "output_type": "display_data"
    },
    {
     "data": {
      "application/vnd.jupyter.widget-view+json": {
       "model_id": "f95d8d5dbb24410ba8fd5c0f86d7038b",
       "version_major": 2,
       "version_minor": 0
      },
      "text/plain": [
       "Label(value='smoothness worst')"
      ]
     },
     "metadata": {},
     "output_type": "display_data"
    },
    {
     "data": {
      "application/vnd.jupyter.widget-view+json": {
       "model_id": "d0fb4a1e547942b090e510607484b431",
       "version_major": 2,
       "version_minor": 0
      },
      "text/plain": [
       "FloatText(value=0.07117)"
      ]
     },
     "metadata": {},
     "output_type": "display_data"
    },
    {
     "data": {
      "application/vnd.jupyter.widget-view+json": {
       "model_id": "1c19078d079c45baa24410b8c938730e",
       "version_major": 2,
       "version_minor": 0
      },
      "text/plain": [
       "Label(value='compactness worst')"
      ]
     },
     "metadata": {},
     "output_type": "display_data"
    },
    {
     "data": {
      "application/vnd.jupyter.widget-view+json": {
       "model_id": "166bd143b3c94c64853e5e42dd5eb64b",
       "version_major": 2,
       "version_minor": 0
      },
      "text/plain": [
       "FloatText(value=0.02729)"
      ]
     },
     "metadata": {},
     "output_type": "display_data"
    },
    {
     "data": {
      "application/vnd.jupyter.widget-view+json": {
       "model_id": "b89d561b2f574fedba35de2ae9f9d2a8",
       "version_major": 2,
       "version_minor": 0
      },
      "text/plain": [
       "Label(value='concavity se')"
      ]
     },
     "metadata": {},
     "output_type": "display_data"
    },
    {
     "data": {
      "application/vnd.jupyter.widget-view+json": {
       "model_id": "8f027df5661040708bad60afb45eca6d",
       "version_major": 2,
       "version_minor": 0
      },
      "text/plain": [
       "FloatText(value=0.0)"
      ]
     },
     "metadata": {},
     "output_type": "display_data"
    },
    {
     "data": {
      "application/vnd.jupyter.widget-view+json": {
       "model_id": "c0f0fd69cc97425cbbd2cf8573c48112",
       "version_major": 2,
       "version_minor": 0
      },
      "text/plain": [
       "Label(value='concave points worst')"
      ]
     },
     "metadata": {},
     "output_type": "display_data"
    },
    {
     "data": {
      "application/vnd.jupyter.widget-view+json": {
       "model_id": "34ee516eda144083a197fed83e1c3ab1",
       "version_major": 2,
       "version_minor": 0
      },
      "text/plain": [
       "FloatText(value=0.0)"
      ]
     },
     "metadata": {},
     "output_type": "display_data"
    },
    {
     "data": {
      "application/vnd.jupyter.widget-view+json": {
       "model_id": "13540d62c7dc4d6fba08de9af339fa01",
       "version_major": 2,
       "version_minor": 0
      },
      "text/plain": [
       "Label(value='symmetry worst')"
      ]
     },
     "metadata": {},
     "output_type": "display_data"
    },
    {
     "data": {
      "application/vnd.jupyter.widget-view+json": {
       "model_id": "3514d93677e04d98a460006f75d4fc97",
       "version_major": 2,
       "version_minor": 0
      },
      "text/plain": [
       "FloatText(value=0.1565)"
      ]
     },
     "metadata": {},
     "output_type": "display_data"
    },
    {
     "data": {
      "application/vnd.jupyter.widget-view+json": {
       "model_id": "1b33122c16cc48128e4b6043eb86c94d",
       "version_major": 2,
       "version_minor": 0
      },
      "text/plain": [
       "Label(value='fractal dimension worst')"
      ]
     },
     "metadata": {},
     "output_type": "display_data"
    },
    {
     "data": {
      "application/vnd.jupyter.widget-view+json": {
       "model_id": "ba56672aadb444cea027b9c60b2b37d5",
       "version_major": 2,
       "version_minor": 0
      },
      "text/plain": [
       "FloatText(value=0.05504)"
      ]
     },
     "metadata": {},
     "output_type": "display_data"
    }
   ],
   "source": [
    "radius_worsttext=widgets.Label('radius worst')                  \n",
    "radius_worst=widgets.FloatText(value=7.93)\n",
    "display(radius_worsttext,radius_worst)\n",
    "\n",
    "texture_worsttext=widgets.Label('texture worst')                   \n",
    "texture_worst=widgets.FloatText(value=12.02)\n",
    "display(texture_worsttext,texture_worst)\n",
    "\n",
    "perimeter_worsttext=widgets.Label('perimeter worst')                \n",
    "perimeter_worst=widgets.FloatText(value=50.41)\n",
    "display(perimeter_worsttext,perimeter_worst)\n",
    "\n",
    "area_worsttext=widgets.Label('area worst')\n",
    "area_worst=widgets.FloatText(value=185.2)\n",
    "display(area_worsttext,area_worst)\n",
    "\n",
    "smoothness_worsttext=widgets.Label('smoothness worst')\n",
    "smoothness_worst=widgets.FloatText(value=0.07117)\n",
    "display(smoothness_worsttext,smoothness_worst)\n",
    "\n",
    "compactness_worsttext=widgets.Label('compactness worst')\n",
    "compactness_worst=widgets.FloatText(value=0.02729)\n",
    "display(compactness_worsttext,compactness_worst)\n",
    "\n",
    "concavity_worsttext=widgets.Label('concavity se')\n",
    "concavity_worst=widgets.FloatText(value=0.0)\n",
    "display(concavity_worsttext,concavity_worst)\n",
    "\n",
    "concave_points_worsttext=widgets.Label('concave points worst')\n",
    "concave_points_worst=widgets.FloatText(value=0.0)\n",
    "display(concave_points_worsttext,concave_points_worst)\n",
    "\n",
    "symmetry_worsttext=widgets.Label('symmetry worst')\n",
    "symmetry_worst=widgets.FloatText(value=0.1565)\n",
    "display(symmetry_worsttext,symmetry_worst)\n",
    "\n",
    "fractal_dimension_worsttext=widgets.Label('fractal dimension worst')\n",
    "fractal_dimension_worst=widgets.FloatText(value=0.05504)\n",
    "display(fractal_dimension_worsttext,fractal_dimension_worst)"
   ]
  },
  {
   "cell_type": "code",
   "execution_count": 17,
   "id": "1baa97c6",
   "metadata": {},
   "outputs": [],
   "source": [
    "radius_mean=radius_mean.value\n",
    "           \n",
    "texture_mean=texture_mean.value\n",
    "             \n",
    "perimeter_mean=perimeter_mean.value\n",
    "\n",
    "area_mean=area_mean.value\n",
    "\n",
    "smoothness_mean=smoothness_mean.value\n",
    "\n",
    "compactness_mean=compactness_mean.value\n",
    "\n",
    "concavity_mean=concavity_mean.value\n",
    "\n",
    "concave_points_mean=concave_points_mean.value\n",
    "\n",
    "symmetry_mean=symmetry_mean.value\n",
    "\n",
    "fractal_dimension_mean=fractal_dimension_mean.value"
   ]
  },
  {
   "cell_type": "code",
   "execution_count": 18,
   "id": "06682fb8",
   "metadata": {},
   "outputs": [],
   "source": [
    "                \n",
    "radius_se=radius_se.value\n",
    "           \n",
    "texture_se=texture_se.value\n",
    "             \n",
    "perimeter_se=perimeter_se.value\n",
    "\n",
    "area_se=area_se.value\n",
    "\n",
    "smoothness_se=smoothness_se.value\n",
    "\n",
    "compactness_se=compactness_se.value\n",
    "\n",
    "concavity_se=concavity_se.value\n",
    "\n",
    "concave_points_se=concave_points_se.value\n",
    "\n",
    "symmetry_se=symmetry_se.value\n",
    "\n",
    "fractal_dimension_se=fractal_dimension_se.value\n"
   ]
  },
  {
   "cell_type": "code",
   "execution_count": 19,
   "id": "a80ef2a1",
   "metadata": {},
   "outputs": [],
   "source": [
    "radius_worst=radius_worst.value\n",
    "           \n",
    "texture_worst=texture_worst.value\n",
    "             \n",
    "perimeter_worst=perimeter_worst.value\n",
    "\n",
    "area_worst=area_worst.value\n",
    "\n",
    "smoothness_worst=smoothness_worst.value\n",
    "\n",
    "compactness_worst=compactness_worst.value\n",
    "\n",
    "concavity_worst=concavity_worst.value\n",
    "\n",
    "concave_points_worst=concave_points_worst.value\n",
    "\n",
    "symmetry_worst=symmetry_worst.value\n",
    "\n",
    "fractal_dimension_worst=fractal_dimension_worst.value"
   ]
  },
  {
   "cell_type": "code",
   "execution_count": 20,
   "id": "15baf1bd",
   "metadata": {},
   "outputs": [],
   "source": [
    "arr={'radius_mean':[radius_mean],'texture_mean':[texture_mean],'perimeter_mean':[perimeter_mean],'area_mean':[area_mean],'smoothness_mean':[smoothness_mean],'compactness_mean':[compactness_mean],'concavity_mean':[concavity_mean],\n",
    "     'concave points_mean':[concave_points_mean],'symmetry_mean':[symmetry_mean],'fractal_dimension_mean':[fractal_dimension_mean],\n",
    "     'radius_se':[radius_se],'texture_se':[texture_se],'perimeter_se':[perimeter_se],'area_se':[area_se],'smoothness_se':[smoothness_se],'compactness_se':[compactness_se],'concavity_se':[concavity_se],'concave points_se':[concave_points_se],\n",
    "     'symmetry_se':[symmetry_se],'fractal_dimension_se':[fractal_dimension_se],\n",
    "     'radius_worst':[radius_worst],'texture_worst':[texture_worst],'perimeter_worst':[perimeter_worst],'area_worst':[area_worst],'smoothness_worst':[smoothness_worst],'compactness_worst':[compactness_worst],'concavity_worst':[concavity_worst],\n",
    "     'concave points_worst':[concave_points_worst],'symmetry_worst':[symmetry_worst],'fractal_dimension_worst':[fractal_dimension_worst]}\n",
    "\n",
    "\n",
    "dg=pd.DataFrame(arr)\n",
    "#dg=df.dropna(axis=1)\n",
    "#ouputforme=str(arr)\n",
    "#h=HTML(value=ouputforme)\n",
    "\n"
   ]
  },
  {
   "cell_type": "code",
   "execution_count": 21,
   "id": "84f21b70",
   "metadata": {},
   "outputs": [],
   "source": [
    "#split the dataset into independent (X) and dependent column (Y) data sets.\n",
    "#Y has the dagonostic whether the patient have cancer or not.While X have the features for cancer detection\n",
    "X = df.iloc[:,0:29].values\n",
    "Y=df.iloc[:,1].values\n"
   ]
  },
  {
   "cell_type": "code",
   "execution_count": 22,
   "id": "efbdfa49",
   "metadata": {},
   "outputs": [],
   "source": [
    "#Show another way to get metrics of the models\n",
    "from sklearn.metrics import classification_report\n",
    "from sklearn.metrics import accuracy_score\n",
    "\n",
    "\n",
    "#for i in range (len (model)): \n",
    "  #  print('Model',i)\n",
    "  #  print(classification_report(Y, model[i].predict(X)))\n",
    "  #  print(accuracy_score(Y, model[i].predict(X)))\n",
    "   # print()\n",
    "    "
   ]
  },
  {
   "cell_type": "code",
   "execution_count": 23,
   "id": "1a7e3911",
   "metadata": {},
   "outputs": [
    {
     "data": {
      "application/vnd.jupyter.widget-view+json": {
       "model_id": "4b7093994f3c4a6b890bf4f7b656c4ed",
       "version_major": 2,
       "version_minor": 0
      },
      "text/plain": [
       "VBox(children=(Button(description='My Button', style=ButtonStyle()), Output()))"
      ]
     },
     "metadata": {},
     "output_type": "display_data"
    }
   ],
   "source": [
    "button = widgets.Button(description='My Button')\n",
    "out = widgets.Output()\n",
    "def on_button_clicked(_):\n",
    "      # \"linking function with output\"\n",
    "      with out:\n",
    "          # what happens when we press the button\n",
    "          clear_output()\n",
    "          print('You Entered in the following numbers')\n",
    "          display(dg)\n",
    "          for i in range (len (model)): \n",
    "            print('Model',i)\n",
    "            print(classification_report(Y, model[i].predict(X)))\n",
    "            print(accuracy_score(Y, model[i].predict(X)))\n",
    "            print()\n",
    "# linking button and function together using a button's method\n",
    "button.on_click(on_button_clicked)\n",
    "# displaying button and its output together\n",
    "widgets.VBox([button,out])"
   ]
  },
  {
   "cell_type": "code",
   "execution_count": 24,
   "id": "b965cb16",
   "metadata": {},
   "outputs": [],
   "source": [
    "#=pd.DataFrame(arr)\n",
    "#pred = model.predict(arr)\n",
    "#print(pred)"
   ]
  },
  {
   "cell_type": "code",
   "execution_count": 25,
   "id": "d4bbe2f6",
   "metadata": {},
   "outputs": [
    {
     "name": "stdout",
     "output_type": "stream",
     "text": [
      "Note: you may need to restart the kernel to use updated packages.\n"
     ]
    }
   ],
   "source": [
    "pip freeze > requirements.txt"
   ]
  }
 ],
 "metadata": {
  "kernelspec": {
   "display_name": "Python 3",
   "language": "python",
   "name": "python3"
  },
  "language_info": {
   "codemirror_mode": {
    "name": "ipython",
    "version": 3
   },
   "file_extension": ".py",
   "mimetype": "text/x-python",
   "name": "python",
   "nbconvert_exporter": "python",
   "pygments_lexer": "ipython3",
   "version": "3.8.3"
  }
 },
 "nbformat": 4,
 "nbformat_minor": 5
}
