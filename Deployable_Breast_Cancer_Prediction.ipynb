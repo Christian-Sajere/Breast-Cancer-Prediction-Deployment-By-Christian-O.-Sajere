{
 "cells": [
  {
   "cell_type": "code",
   "execution_count": 1,
   "id": "df83b500",
   "metadata": {},
   "outputs": [],
   "source": [
    "import warnings\n",
    "warnings.filterwarnings('ignore')"
   ]
  },
  {
   "cell_type": "code",
   "execution_count": 2,
   "id": "7de3bbdb",
   "metadata": {},
   "outputs": [],
   "source": [
    "#import libraries\n",
    "import numpy as np\n",
    "import pandas as pd\n",
    "import matplotlib.pyplot as plt\n",
    "import seaborn as sns\n",
    "\n",
    "import ipywidgets as widgets\n",
    "from ipywidgets import HTML\n",
    "from IPython.display import display, clear_output"
   ]
  },
  {
   "cell_type": "code",
   "execution_count": 3,
   "id": "f9798ad7",
   "metadata": {},
   "outputs": [],
   "source": [
    "#load the data\n",
    "df=pd.read_csv('data.csv')"
   ]
  },
  {
   "cell_type": "code",
   "execution_count": 4,
   "id": "e653da66",
   "metadata": {},
   "outputs": [],
   "source": [
    "#drop all the colums with empty values\n",
    "df=df.dropna(axis=1)"
   ]
  },
  {
   "cell_type": "code",
   "execution_count": 5,
   "id": "3f4950a1",
   "metadata": {},
   "outputs": [],
   "source": [
    "#Encode the categorical data value\n",
    "from sklearn.preprocessing import LabelEncoder\n",
    "labelencoder_Y = LabelEncoder()\n",
    "df.iloc[:,1]=labelencoder_Y.fit_transform(df.iloc[:,1].values)"
   ]
  },
  {
   "cell_type": "code",
   "execution_count": 6,
   "id": "805b4099",
   "metadata": {},
   "outputs": [],
   "source": [
    "#split the dataset into independent (X) and dependent column (Y) data sets.\n",
    "#Y has the dagonostic whether the patient have cancer or not.While X have the features for cancer detection\n",
    "X = df.iloc[:,2:31].values\n",
    "Y=df.iloc[:,1].values\n"
   ]
  },
  {
   "cell_type": "code",
   "execution_count": 7,
   "id": "990a6a86",
   "metadata": {},
   "outputs": [],
   "source": [
    "#Split the dataset into 75% training and 25% testing\n",
    "from sklearn.model_selection import train_test_split\n",
    "X_train, X_test, Y_train, Y_test=train_test_split(X, Y, test_size=0.25 ,random_state =0)"
   ]
  },
  {
   "cell_type": "code",
   "execution_count": 8,
   "id": "0551f9d2",
   "metadata": {},
   "outputs": [],
   "source": [
    "#Scale the data (Feature scaling)\n",
    "from sklearn.preprocessing import StandardScaler\n",
    "sc=StandardScaler()\n",
    "X_train=sc.fit_transform(X_train)\n",
    "X_test=sc.fit_transform(X_test)\n"
   ]
  },
  {
   "cell_type": "code",
   "execution_count": 9,
   "id": "87ba5339",
   "metadata": {},
   "outputs": [],
   "source": [
    "#create a function for the models\n",
    "def models(X_train, Y_train):\n",
    "    \n",
    "    #logistic Regression\n",
    "    from sklearn.linear_model import LogisticRegression\n",
    "    log=LogisticRegression(random_state=0)\n",
    "    log.fit(X_train, Y_train)\n",
    "    \n",
    "    #Decision Tree classicifier\n",
    "    from sklearn.tree import DecisionTreeClassifier\n",
    "    tree=DecisionTreeClassifier(criterion= 'entropy', random_state=0)\n",
    "    tree.fit(X_train,Y_train)\n",
    "    \n",
    "    #Random Forest Classifier\n",
    "    from sklearn.ensemble import RandomForestClassifier\n",
    "    forest= RandomForestClassifier(n_estimators = 10, criterion='entropy', random_state=0)\n",
    "    forest.fit(X_train,Y_train)\n",
    "    \n",
    "    #Print the models Accuracy of the data\n",
    "    print('[0] Logistic Regression training accuracy:',log.score(X_train, Y_train))\n",
    "    print('[1] Decision Tree training accuracy:',tree.score(X_train, Y_train))\n",
    "    print('[2] Random Forest Classifier training accuracy:',forest.score(X_train, Y_train))\n",
    "    \n",
    "    return log, tree,forest"
   ]
  },
  {
   "cell_type": "code",
   "execution_count": 10,
   "id": "5fb59aeb",
   "metadata": {},
   "outputs": [
    {
     "data": {
      "application/vnd.jupyter.widget-view+json": {
       "model_id": "9af47b498acc4bb0ae8f36161be5d103",
       "version_major": 2,
       "version_minor": 0
      },
      "text/plain": [
       "Image(value=b'\\x89PNG\\r\\n\\x1a\\n\\x00\\x00\\x00\\rIHDR\\x00\\x00\\x05\\x00\\x00\\x00\\x05\\x00\\x08\\x06\\x00\\x00\\x00\\x18\\xe4\\…"
      ]
     },
     "metadata": {},
     "output_type": "display_data"
    },
    {
     "data": {
      "application/vnd.jupyter.widget-view+json": {
       "model_id": "95de10acf68442ad8bf4518dfa07e85c",
       "version_major": 2,
       "version_minor": 0
      },
      "text/plain": [
       "HTML(value='<h1>Breast Cancer Prediction Software</h1>')"
      ]
     },
     "metadata": {},
     "output_type": "display_data"
    }
   ],
   "source": [
    "images=open('cancer-2D_image.png','rb').read()\n",
    "wi1 = widgets.Image(value=images, format='png', width=300, height=400)\n",
    "\n",
    "h1=HTML(value='<h1>Breast Cancer Prediction Software</h1>')\n",
    "display(wi1,h1)"
   ]
  },
  {
   "cell_type": "code",
   "execution_count": 11,
   "id": "85cb4529",
   "metadata": {},
   "outputs": [
    {
     "name": "stdout",
     "output_type": "stream",
     "text": [
      "[0] Logistic Regression training accuracy: 0.9906103286384976\n",
      "[1] Decision Tree training accuracy: 1.0\n",
      "[2] Random Forest Classifier training accuracy: 0.9953051643192489\n"
     ]
    }
   ],
   "source": [
    "# here we will be getting of the models\n",
    "model = models(X_train, Y_train)"
   ]
  },
  {
   "cell_type": "code",
   "execution_count": 12,
   "id": "4eccc57f",
   "metadata": {},
   "outputs": [],
   "source": [
    "#Show another way to get metrics of the models\n",
    "#from sklearn.metrics import classification_report\n",
    "#from sklearn.metrics import accuracy_score\n",
    "\n",
    "#for i in range (len (model)): \n",
    "  #  print('Model',i)\n",
    "  #  print(classification_report(Y_test, model[i].predict(X_test)))\n",
    "   # print(accuracy_score(Y_test, model[i].predict(X_test)))\n",
    "   # print()\n",
    "    "
   ]
  },
  {
   "cell_type": "code",
   "execution_count": 13,
   "id": "b430f5e0",
   "metadata": {},
   "outputs": [],
   "source": [
    "#Print the prediction of the Radmon Forest Classifer Model\n",
    "pred = model[2].predict(X_test)\n"
   ]
  },
  {
   "cell_type": "code",
   "execution_count": 14,
   "id": "824da248",
   "metadata": {},
   "outputs": [
    {
     "data": {
      "application/vnd.jupyter.widget-view+json": {
       "model_id": "de576e4b67ed4d6a8f0586697e0ff140",
       "version_major": 2,
       "version_minor": 0
      },
      "text/plain": [
       "Label(value='radius mean')"
      ]
     },
     "metadata": {},
     "output_type": "display_data"
    },
    {
     "data": {
      "application/vnd.jupyter.widget-view+json": {
       "model_id": "6f01d111815f4e7889d9832e0cf8e3cb",
       "version_major": 2,
       "version_minor": 0
      },
      "text/plain": [
       "FloatText(value=6.981)"
      ]
     },
     "metadata": {},
     "output_type": "display_data"
    },
    {
     "data": {
      "application/vnd.jupyter.widget-view+json": {
       "model_id": "c03f8b57835d4e6c89e8a4f0e7772864",
       "version_major": 2,
       "version_minor": 0
      },
      "text/plain": [
       "Label(value='texture mean')"
      ]
     },
     "metadata": {},
     "output_type": "display_data"
    },
    {
     "data": {
      "application/vnd.jupyter.widget-view+json": {
       "model_id": "674d91577c85455184b7f3ee1e56d62d",
       "version_major": 2,
       "version_minor": 0
      },
      "text/plain": [
       "FloatText(value=9.71)"
      ]
     },
     "metadata": {},
     "output_type": "display_data"
    },
    {
     "data": {
      "application/vnd.jupyter.widget-view+json": {
       "model_id": "950065adfc0e49a7b5dce900ccc1f1e3",
       "version_major": 2,
       "version_minor": 0
      },
      "text/plain": [
       "Label(value='perimeter mean')"
      ]
     },
     "metadata": {},
     "output_type": "display_data"
    },
    {
     "data": {
      "application/vnd.jupyter.widget-view+json": {
       "model_id": "44799e40a6994f178dcf9024721624e6",
       "version_major": 2,
       "version_minor": 0
      },
      "text/plain": [
       "FloatText(value=43.79)"
      ]
     },
     "metadata": {},
     "output_type": "display_data"
    },
    {
     "data": {
      "application/vnd.jupyter.widget-view+json": {
       "model_id": "6ca0a99575ed498ba3fbf6d619b7ea3e",
       "version_major": 2,
       "version_minor": 0
      },
      "text/plain": [
       "Label(value='area mean')"
      ]
     },
     "metadata": {},
     "output_type": "display_data"
    },
    {
     "data": {
      "application/vnd.jupyter.widget-view+json": {
       "model_id": "4d67a6f645344075b14f375c8032e07b",
       "version_major": 2,
       "version_minor": 0
      },
      "text/plain": [
       "FloatText(value=143.5)"
      ]
     },
     "metadata": {},
     "output_type": "display_data"
    },
    {
     "data": {
      "application/vnd.jupyter.widget-view+json": {
       "model_id": "6ca0a99575ed498ba3fbf6d619b7ea3e",
       "version_major": 2,
       "version_minor": 0
      },
      "text/plain": [
       "Label(value='area mean')"
      ]
     },
     "metadata": {},
     "output_type": "display_data"
    },
    {
     "data": {
      "application/vnd.jupyter.widget-view+json": {
       "model_id": "4d67a6f645344075b14f375c8032e07b",
       "version_major": 2,
       "version_minor": 0
      },
      "text/plain": [
       "FloatText(value=143.5)"
      ]
     },
     "metadata": {},
     "output_type": "display_data"
    },
    {
     "data": {
      "application/vnd.jupyter.widget-view+json": {
       "model_id": "ab4e08aa60ea45d8a261c63fb3409810",
       "version_major": 2,
       "version_minor": 0
      },
      "text/plain": [
       "Label(value='compactness mean')"
      ]
     },
     "metadata": {},
     "output_type": "display_data"
    },
    {
     "data": {
      "application/vnd.jupyter.widget-view+json": {
       "model_id": "66e27faf990f438bbcd9d5baa49a6dd3",
       "version_major": 2,
       "version_minor": 0
      },
      "text/plain": [
       "FloatText(value=0.01938)"
      ]
     },
     "metadata": {},
     "output_type": "display_data"
    },
    {
     "data": {
      "application/vnd.jupyter.widget-view+json": {
       "model_id": "475068dcfd3c42f3977ca99957ad8046",
       "version_major": 2,
       "version_minor": 0
      },
      "text/plain": [
       "Label(value='concavity mean')"
      ]
     },
     "metadata": {},
     "output_type": "display_data"
    },
    {
     "data": {
      "application/vnd.jupyter.widget-view+json": {
       "model_id": "155359daafff46b59928d992cf5df549",
       "version_major": 2,
       "version_minor": 0
      },
      "text/plain": [
       "FloatText(value=0.0)"
      ]
     },
     "metadata": {},
     "output_type": "display_data"
    },
    {
     "data": {
      "application/vnd.jupyter.widget-view+json": {
       "model_id": "eb909d8917254b959e003ff5bd57de3b",
       "version_major": 2,
       "version_minor": 0
      },
      "text/plain": [
       "Label(value='concave points mean')"
      ]
     },
     "metadata": {},
     "output_type": "display_data"
    },
    {
     "data": {
      "application/vnd.jupyter.widget-view+json": {
       "model_id": "96155cce5e5b4acfb4c2c28337900d1f",
       "version_major": 2,
       "version_minor": 0
      },
      "text/plain": [
       "FloatText(value=0.0)"
      ]
     },
     "metadata": {},
     "output_type": "display_data"
    },
    {
     "data": {
      "application/vnd.jupyter.widget-view+json": {
       "model_id": "b7df9c729e884d0a8560eb5039acc365",
       "version_major": 2,
       "version_minor": 0
      },
      "text/plain": [
       "Label(value='symmetry mean')"
      ]
     },
     "metadata": {},
     "output_type": "display_data"
    },
    {
     "data": {
      "application/vnd.jupyter.widget-view+json": {
       "model_id": "b22c35ed3e9a449a8e4cc2695b2732ed",
       "version_major": 2,
       "version_minor": 0
      },
      "text/plain": [
       "FloatText(value=0.106)"
      ]
     },
     "metadata": {},
     "output_type": "display_data"
    },
    {
     "data": {
      "application/vnd.jupyter.widget-view+json": {
       "model_id": "e2962c1fb5634b69a377d5c09477c590",
       "version_major": 2,
       "version_minor": 0
      },
      "text/plain": [
       "Label(value='fractal dimension mean')"
      ]
     },
     "metadata": {},
     "output_type": "display_data"
    },
    {
     "data": {
      "application/vnd.jupyter.widget-view+json": {
       "model_id": "019200e382044901800649d09ff3186b",
       "version_major": 2,
       "version_minor": 0
      },
      "text/plain": [
       "FloatText(value=0.04996)"
      ]
     },
     "metadata": {},
     "output_type": "display_data"
    }
   ],
   "source": [
    "radius_meantext=widgets.Label('radius mean')                  \n",
    "radius_mean=widgets.FloatText(value=6.981)\n",
    "display(radius_meantext,radius_mean)\n",
    "\n",
    "texture_meantext=widgets.Label('texture mean')                   \n",
    "texture_mean=widgets.FloatText(value=9.71)\n",
    "display(texture_meantext,texture_mean)\n",
    "\n",
    "perimeter_meantext=widgets.Label('perimeter mean')                \n",
    "perimeter_mean=widgets.FloatText(value=43.79)\n",
    "display(perimeter_meantext,perimeter_mean)\n",
    "\n",
    "area_meantext=widgets.Label('area mean')\n",
    "area_mean=widgets.FloatText(value=143.5)\n",
    "display(area_meantext,area_mean)\n",
    "\n",
    "smoothness_meantext=widgets.Label('smoothness mean')\n",
    "smoothness_mean=widgets.FloatText(value=0.05263)\n",
    "display(area_meantext,area_mean)\n",
    "\n",
    "compactness_meantext=widgets.Label('compactness mean')\n",
    "compactness_mean=widgets.FloatText(value=0.01938)\n",
    "display(compactness_meantext,compactness_mean)\n",
    "\n",
    "concavity_meantext=widgets.Label('concavity mean')\n",
    "concavity_mean=widgets.FloatText(value=0.0)\n",
    "display(concavity_meantext,concavity_mean)\n",
    "\n",
    "concave_points_meantext=widgets.Label('concave points mean')\n",
    "concave_points_mean=widgets.FloatText(value=0.0)\n",
    "display(concave_points_meantext,concave_points_mean)\n",
    "\n",
    "symmetry_meantext=widgets.Label('symmetry mean')\n",
    "symmetry_mean=widgets.FloatText(value=0.106)\n",
    "display(symmetry_meantext,symmetry_mean)\n",
    "\n",
    "fractal_dimension_meantext=widgets.Label('fractal dimension mean')\n",
    "fractal_dimension_mean=widgets.FloatText(value=0.04996)\n",
    "display(fractal_dimension_meantext,fractal_dimension_mean)"
   ]
  },
  {
   "cell_type": "code",
   "execution_count": 15,
   "id": "8939b27e",
   "metadata": {},
   "outputs": [
    {
     "data": {
      "application/vnd.jupyter.widget-view+json": {
       "model_id": "9b52d785d37e4352984b0b83ab04ba7a",
       "version_major": 2,
       "version_minor": 0
      },
      "text/plain": [
       "Label(value='radius se')"
      ]
     },
     "metadata": {},
     "output_type": "display_data"
    },
    {
     "data": {
      "application/vnd.jupyter.widget-view+json": {
       "model_id": "08e3da69ee9346fe9e3f819e3ecf726f",
       "version_major": 2,
       "version_minor": 0
      },
      "text/plain": [
       "FloatText(value=0.1115)"
      ]
     },
     "metadata": {},
     "output_type": "display_data"
    },
    {
     "data": {
      "application/vnd.jupyter.widget-view+json": {
       "model_id": "aa007c49ad23457ca3a2f55d92db0873",
       "version_major": 2,
       "version_minor": 0
      },
      "text/plain": [
       "Label(value='texture se')"
      ]
     },
     "metadata": {},
     "output_type": "display_data"
    },
    {
     "data": {
      "application/vnd.jupyter.widget-view+json": {
       "model_id": "53eaffb01e8d4c5896b3da91312e963d",
       "version_major": 2,
       "version_minor": 0
      },
      "text/plain": [
       "FloatText(value=0.3602)"
      ]
     },
     "metadata": {},
     "output_type": "display_data"
    },
    {
     "data": {
      "application/vnd.jupyter.widget-view+json": {
       "model_id": "2afd57b9832e44c59d25e9b0ca056c09",
       "version_major": 2,
       "version_minor": 0
      },
      "text/plain": [
       "Label(value='perimeter se')"
      ]
     },
     "metadata": {},
     "output_type": "display_data"
    },
    {
     "data": {
      "application/vnd.jupyter.widget-view+json": {
       "model_id": "827e6007ff804c5d8dca4d17d45a5cda",
       "version_major": 2,
       "version_minor": 0
      },
      "text/plain": [
       "FloatText(value=0.757)"
      ]
     },
     "metadata": {},
     "output_type": "display_data"
    },
    {
     "data": {
      "application/vnd.jupyter.widget-view+json": {
       "model_id": "cb815c6ac5854899a78b67d35b1cbb19",
       "version_major": 2,
       "version_minor": 0
      },
      "text/plain": [
       "Label(value='area se')"
      ]
     },
     "metadata": {},
     "output_type": "display_data"
    },
    {
     "data": {
      "application/vnd.jupyter.widget-view+json": {
       "model_id": "c5354cd5c0174fed839fcc584079a1db",
       "version_major": 2,
       "version_minor": 0
      },
      "text/plain": [
       "FloatText(value=143.5)"
      ]
     },
     "metadata": {},
     "output_type": "display_data"
    },
    {
     "data": {
      "application/vnd.jupyter.widget-view+json": {
       "model_id": "2d62f33e4f3d438bac3bc982e75e2cba",
       "version_major": 2,
       "version_minor": 0
      },
      "text/plain": [
       "Label(value='smoothness se')"
      ]
     },
     "metadata": {},
     "output_type": "display_data"
    },
    {
     "data": {
      "application/vnd.jupyter.widget-view+json": {
       "model_id": "16e41199f8cd42f58996ca4f827141f3",
       "version_major": 2,
       "version_minor": 0
      },
      "text/plain": [
       "FloatText(value=0.001713)"
      ]
     },
     "metadata": {},
     "output_type": "display_data"
    },
    {
     "data": {
      "application/vnd.jupyter.widget-view+json": {
       "model_id": "aa1c0a0fa92f4c41a211835d929d214d",
       "version_major": 2,
       "version_minor": 0
      },
      "text/plain": [
       "Label(value='compactness se')"
      ]
     },
     "metadata": {},
     "output_type": "display_data"
    },
    {
     "data": {
      "application/vnd.jupyter.widget-view+json": {
       "model_id": "4dbbd886f58b4115b01dc295abf43b18",
       "version_major": 2,
       "version_minor": 0
      },
      "text/plain": [
       "FloatText(value=0.002252)"
      ]
     },
     "metadata": {},
     "output_type": "display_data"
    },
    {
     "data": {
      "application/vnd.jupyter.widget-view+json": {
       "model_id": "d56ea6cf107045879a0d4a42c85009f2",
       "version_major": 2,
       "version_minor": 0
      },
      "text/plain": [
       "Label(value='concavity se')"
      ]
     },
     "metadata": {},
     "output_type": "display_data"
    },
    {
     "data": {
      "application/vnd.jupyter.widget-view+json": {
       "model_id": "debd6608b53949cb91883f678f25d696",
       "version_major": 2,
       "version_minor": 0
      },
      "text/plain": [
       "FloatText(value=0.0)"
      ]
     },
     "metadata": {},
     "output_type": "display_data"
    },
    {
     "data": {
      "application/vnd.jupyter.widget-view+json": {
       "model_id": "8b42a140714b41fdbb20245a37e85e87",
       "version_major": 2,
       "version_minor": 0
      },
      "text/plain": [
       "Label(value='concave points se')"
      ]
     },
     "metadata": {},
     "output_type": "display_data"
    },
    {
     "data": {
      "application/vnd.jupyter.widget-view+json": {
       "model_id": "590f716e76e84aa59f75dac42ab5086e",
       "version_major": 2,
       "version_minor": 0
      },
      "text/plain": [
       "FloatText(value=0.0)"
      ]
     },
     "metadata": {},
     "output_type": "display_data"
    },
    {
     "data": {
      "application/vnd.jupyter.widget-view+json": {
       "model_id": "e012a7a46cfd415bba82f853fa38ab50",
       "version_major": 2,
       "version_minor": 0
      },
      "text/plain": [
       "Label(value='symmetry se')"
      ]
     },
     "metadata": {},
     "output_type": "display_data"
    },
    {
     "data": {
      "application/vnd.jupyter.widget-view+json": {
       "model_id": "0eabe188cb1f471da99aead1720a019f",
       "version_major": 2,
       "version_minor": 0
      },
      "text/plain": [
       "FloatText(value=0.007882)"
      ]
     },
     "metadata": {},
     "output_type": "display_data"
    },
    {
     "data": {
      "application/vnd.jupyter.widget-view+json": {
       "model_id": "d54d9f62f90443829301835249425fc7",
       "version_major": 2,
       "version_minor": 0
      },
      "text/plain": [
       "Label(value='fractal dimension se')"
      ]
     },
     "metadata": {},
     "output_type": "display_data"
    },
    {
     "data": {
      "application/vnd.jupyter.widget-view+json": {
       "model_id": "77ee81ebe2674d9cb7e1970abbe917a7",
       "version_major": 2,
       "version_minor": 0
      },
      "text/plain": [
       "FloatText(value=0.000895)"
      ]
     },
     "metadata": {},
     "output_type": "display_data"
    }
   ],
   "source": [
    "radius_setext=widgets.Label('radius se')                  \n",
    "radius_se=widgets.FloatText(value=0.1115)\n",
    "display(radius_setext,radius_se)\n",
    "\n",
    "texture_setext=widgets.Label('texture se')                   \n",
    "texture_se=widgets.FloatText(value=0.3602)\n",
    "display(texture_setext,texture_se)\n",
    "\n",
    "perimeter_setext=widgets.Label('perimeter se')                \n",
    "perimeter_se=widgets.FloatText(value=0.757)\n",
    "display(perimeter_setext,perimeter_se)\n",
    "\n",
    "area_setext=widgets.Label('area se')\n",
    "area_se=widgets.FloatText(value=143.5)\n",
    "display(area_setext,area_se)\n",
    "\n",
    "smoothness_setext=widgets.Label('smoothness se')\n",
    "smoothness_se=widgets.FloatText(value=0.001713)\n",
    "display(smoothness_setext,smoothness_se)\n",
    "\n",
    "compactness_setext=widgets.Label('compactness se')\n",
    "compactness_se=widgets.FloatText(value=0.002252)\n",
    "display(compactness_setext,compactness_se)\n",
    "\n",
    "concavity_setext=widgets.Label('concavity se')\n",
    "concavity_se=widgets.FloatText(value=0.0)\n",
    "display(concavity_setext,concavity_se)\n",
    "\n",
    "concave_points_setext=widgets.Label('concave points se')\n",
    "concave_points_se=widgets.FloatText(value=0.0)\n",
    "display(concave_points_setext,concave_points_se)\n",
    "\n",
    "symmetry_setext=widgets.Label('symmetry se')\n",
    "symmetry_se=widgets.FloatText(value=0.007882)\n",
    "display(symmetry_setext,symmetry_se)\n",
    "\n",
    "fractal_dimension_setext=widgets.Label('fractal dimension se')\n",
    "fractal_dimension_se=widgets.FloatText(value=0.000895)\n",
    "display(fractal_dimension_setext,fractal_dimension_se)"
   ]
  },
  {
   "cell_type": "code",
   "execution_count": 16,
   "id": "ed526e3f",
   "metadata": {},
   "outputs": [
    {
     "data": {
      "application/vnd.jupyter.widget-view+json": {
       "model_id": "e1ce21ea18ad443db99d6d026919b16f",
       "version_major": 2,
       "version_minor": 0
      },
      "text/plain": [
       "Label(value='radius worst')"
      ]
     },
     "metadata": {},
     "output_type": "display_data"
    },
    {
     "data": {
      "application/vnd.jupyter.widget-view+json": {
       "model_id": "ed54d95a889b460e9766659b612edc75",
       "version_major": 2,
       "version_minor": 0
      },
      "text/plain": [
       "FloatText(value=7.93)"
      ]
     },
     "metadata": {},
     "output_type": "display_data"
    },
    {
     "data": {
      "application/vnd.jupyter.widget-view+json": {
       "model_id": "48a4411d5b7744d0a09dade459f9335f",
       "version_major": 2,
       "version_minor": 0
      },
      "text/plain": [
       "Label(value='texture worst')"
      ]
     },
     "metadata": {},
     "output_type": "display_data"
    },
    {
     "data": {
      "application/vnd.jupyter.widget-view+json": {
       "model_id": "72739d8a6d364d35a2c1656a4c136df3",
       "version_major": 2,
       "version_minor": 0
      },
      "text/plain": [
       "FloatText(value=12.02)"
      ]
     },
     "metadata": {},
     "output_type": "display_data"
    },
    {
     "data": {
      "application/vnd.jupyter.widget-view+json": {
       "model_id": "27c19fdeae154e5c8bd56cc4deb52427",
       "version_major": 2,
       "version_minor": 0
      },
      "text/plain": [
       "Label(value='perimeter worst')"
      ]
     },
     "metadata": {},
     "output_type": "display_data"
    },
    {
     "data": {
      "application/vnd.jupyter.widget-view+json": {
       "model_id": "644a8c78618247529c55063c5b23fb1f",
       "version_major": 2,
       "version_minor": 0
      },
      "text/plain": [
       "FloatText(value=50.41)"
      ]
     },
     "metadata": {},
     "output_type": "display_data"
    },
    {
     "data": {
      "application/vnd.jupyter.widget-view+json": {
       "model_id": "4552e6b9767e44c891e714762947056e",
       "version_major": 2,
       "version_minor": 0
      },
      "text/plain": [
       "Label(value='area worst')"
      ]
     },
     "metadata": {},
     "output_type": "display_data"
    },
    {
     "data": {
      "application/vnd.jupyter.widget-view+json": {
       "model_id": "0b79674102ab48a2ae1ae2285bf9a85d",
       "version_major": 2,
       "version_minor": 0
      },
      "text/plain": [
       "FloatText(value=185.2)"
      ]
     },
     "metadata": {},
     "output_type": "display_data"
    },
    {
     "data": {
      "application/vnd.jupyter.widget-view+json": {
       "model_id": "b7b9be8392fa46158463fad5ac433f35",
       "version_major": 2,
       "version_minor": 0
      },
      "text/plain": [
       "Label(value='smoothness worst')"
      ]
     },
     "metadata": {},
     "output_type": "display_data"
    },
    {
     "data": {
      "application/vnd.jupyter.widget-view+json": {
       "model_id": "860d72d3b2884c6aa5ae95f5a2ab1a97",
       "version_major": 2,
       "version_minor": 0
      },
      "text/plain": [
       "FloatText(value=0.07117)"
      ]
     },
     "metadata": {},
     "output_type": "display_data"
    },
    {
     "data": {
      "application/vnd.jupyter.widget-view+json": {
       "model_id": "7e2f8471eba84ba9a7036a121592d3e7",
       "version_major": 2,
       "version_minor": 0
      },
      "text/plain": [
       "Label(value='compactness worst')"
      ]
     },
     "metadata": {},
     "output_type": "display_data"
    },
    {
     "data": {
      "application/vnd.jupyter.widget-view+json": {
       "model_id": "9c99445b134343aeb53ba331dec3347c",
       "version_major": 2,
       "version_minor": 0
      },
      "text/plain": [
       "FloatText(value=0.02729)"
      ]
     },
     "metadata": {},
     "output_type": "display_data"
    },
    {
     "data": {
      "application/vnd.jupyter.widget-view+json": {
       "model_id": "ee859cc177d54f92810cadb1b921344b",
       "version_major": 2,
       "version_minor": 0
      },
      "text/plain": [
       "Label(value='concavity se')"
      ]
     },
     "metadata": {},
     "output_type": "display_data"
    },
    {
     "data": {
      "application/vnd.jupyter.widget-view+json": {
       "model_id": "f1eba62deaee46599084c2c53cf87e50",
       "version_major": 2,
       "version_minor": 0
      },
      "text/plain": [
       "FloatText(value=0.0)"
      ]
     },
     "metadata": {},
     "output_type": "display_data"
    },
    {
     "data": {
      "application/vnd.jupyter.widget-view+json": {
       "model_id": "f9490afe7f2f40b49ddcb03cf483478b",
       "version_major": 2,
       "version_minor": 0
      },
      "text/plain": [
       "Label(value='concave points worst')"
      ]
     },
     "metadata": {},
     "output_type": "display_data"
    },
    {
     "data": {
      "application/vnd.jupyter.widget-view+json": {
       "model_id": "39af63cfe4a6469cbcaa390202020ec2",
       "version_major": 2,
       "version_minor": 0
      },
      "text/plain": [
       "FloatText(value=0.0)"
      ]
     },
     "metadata": {},
     "output_type": "display_data"
    },
    {
     "data": {
      "application/vnd.jupyter.widget-view+json": {
       "model_id": "5061a4925ce047c6b71728b49e82a29e",
       "version_major": 2,
       "version_minor": 0
      },
      "text/plain": [
       "Label(value='symmetry worst')"
      ]
     },
     "metadata": {},
     "output_type": "display_data"
    },
    {
     "data": {
      "application/vnd.jupyter.widget-view+json": {
       "model_id": "92d3d4cf26da4d4f843c706b474c7d07",
       "version_major": 2,
       "version_minor": 0
      },
      "text/plain": [
       "FloatText(value=0.1565)"
      ]
     },
     "metadata": {},
     "output_type": "display_data"
    },
    {
     "data": {
      "application/vnd.jupyter.widget-view+json": {
       "model_id": "9aeba616d250461d8c63e3ba236a501d",
       "version_major": 2,
       "version_minor": 0
      },
      "text/plain": [
       "Label(value='fractal dimension worst')"
      ]
     },
     "metadata": {},
     "output_type": "display_data"
    },
    {
     "data": {
      "application/vnd.jupyter.widget-view+json": {
       "model_id": "0659a2a6c6f941aa9c20242a9a1e87e1",
       "version_major": 2,
       "version_minor": 0
      },
      "text/plain": [
       "FloatText(value=0.05504)"
      ]
     },
     "metadata": {},
     "output_type": "display_data"
    }
   ],
   "source": [
    "radius_worsttext=widgets.Label('radius worst')                  \n",
    "radius_worst=widgets.FloatText(value=7.93)\n",
    "display(radius_worsttext,radius_worst)\n",
    "\n",
    "texture_worsttext=widgets.Label('texture worst')                   \n",
    "texture_worst=widgets.FloatText(value=12.02)\n",
    "display(texture_worsttext,texture_worst)\n",
    "\n",
    "perimeter_worsttext=widgets.Label('perimeter worst')                \n",
    "perimeter_worst=widgets.FloatText(value=50.41)\n",
    "display(perimeter_worsttext,perimeter_worst)\n",
    "\n",
    "area_worsttext=widgets.Label('area worst')\n",
    "area_worst=widgets.FloatText(value=185.2)\n",
    "display(area_worsttext,area_worst)\n",
    "\n",
    "smoothness_worsttext=widgets.Label('smoothness worst')\n",
    "smoothness_worst=widgets.FloatText(value=0.07117)\n",
    "display(smoothness_worsttext,smoothness_worst)\n",
    "\n",
    "compactness_worsttext=widgets.Label('compactness worst')\n",
    "compactness_worst=widgets.FloatText(value=0.02729)\n",
    "display(compactness_worsttext,compactness_worst)\n",
    "\n",
    "concavity_worsttext=widgets.Label('concavity se')\n",
    "concavity_worst=widgets.FloatText(value=0.0)\n",
    "display(concavity_worsttext,concavity_worst)\n",
    "\n",
    "concave_points_worsttext=widgets.Label('concave points worst')\n",
    "concave_points_worst=widgets.FloatText(value=0.0)\n",
    "display(concave_points_worsttext,concave_points_worst)\n",
    "\n",
    "symmetry_worsttext=widgets.Label('symmetry worst')\n",
    "symmetry_worst=widgets.FloatText(value=0.1565)\n",
    "display(symmetry_worsttext,symmetry_worst)\n",
    "\n",
    "fractal_dimension_worsttext=widgets.Label('fractal dimension worst')\n",
    "fractal_dimension_worst=widgets.FloatText(value=0.05504)\n",
    "display(fractal_dimension_worsttext,fractal_dimension_worst)"
   ]
  },
  {
   "cell_type": "code",
   "execution_count": 17,
   "id": "1baa97c6",
   "metadata": {},
   "outputs": [],
   "source": [
    "radius_mean=radius_mean.value\n",
    "           \n",
    "texture_mean=texture_mean.value\n",
    "             \n",
    "perimeter_mean=perimeter_mean.value\n",
    "\n",
    "area_mean=area_mean.value\n",
    "\n",
    "smoothness_mean=smoothness_mean.value\n",
    "\n",
    "compactness_mean=compactness_mean.value\n",
    "\n",
    "concavity_mean=concavity_mean.value\n",
    "\n",
    "concave_points_mean=concave_points_mean.value\n",
    "\n",
    "symmetry_mean=symmetry_mean.value\n",
    "\n",
    "fractal_dimension_mean=fractal_dimension_mean.value"
   ]
  },
  {
   "cell_type": "code",
   "execution_count": 18,
   "id": "06682fb8",
   "metadata": {},
   "outputs": [],
   "source": [
    "                \n",
    "radius_se=radius_se.value\n",
    "           \n",
    "texture_se=texture_se.value\n",
    "             \n",
    "perimeter_se=perimeter_se.value\n",
    "\n",
    "area_se=area_se.value\n",
    "\n",
    "smoothness_se=smoothness_se.value\n",
    "\n",
    "compactness_se=compactness_se.value\n",
    "\n",
    "concavity_se=concavity_se.value\n",
    "\n",
    "concave_points_se=concave_points_se.value\n",
    "\n",
    "symmetry_se=symmetry_se.value\n",
    "\n",
    "fractal_dimension_se=fractal_dimension_se.value\n"
   ]
  },
  {
   "cell_type": "code",
   "execution_count": 19,
   "id": "a80ef2a1",
   "metadata": {},
   "outputs": [],
   "source": [
    "radius_worst=radius_worst.value\n",
    "           \n",
    "texture_worst=texture_worst.value\n",
    "             \n",
    "perimeter_worst=perimeter_worst.value\n",
    "\n",
    "area_worst=area_worst.value\n",
    "\n",
    "smoothness_worst=smoothness_worst.value\n",
    "\n",
    "compactness_worst=compactness_worst.value\n",
    "\n",
    "concavity_worst=concavity_worst.value\n",
    "\n",
    "concave_points_worst=concave_points_worst.value\n",
    "\n",
    "symmetry_worst=symmetry_worst.value\n",
    "\n",
    "fractal_dimension_worst=fractal_dimension_worst.value"
   ]
  },
  {
   "cell_type": "code",
   "execution_count": 20,
   "id": "15baf1bd",
   "metadata": {},
   "outputs": [],
   "source": [
    "arr={'radius_mean':[radius_mean],'texture_mean':[texture_mean],'perimeter_mean':[perimeter_mean],'area_mean':[area_mean],'smoothness_mean':[smoothness_mean],'compactness_mean':[compactness_mean],'concavity_mean':[concavity_mean],\n",
    "     'concave points_mean':[concave_points_mean],'symmetry_mean':[symmetry_mean],'fractal_dimension_mean':[fractal_dimension_mean],\n",
    "     'radius_se':[radius_se],'texture_se':[texture_se],'perimeter_se':[perimeter_se],'area_se':[area_se],'smoothness_se':[smoothness_se],'compactness_se':[compactness_se],'concavity_se':[concavity_se],'concave points_se':[concave_points_se],\n",
    "     'symmetry_se':[symmetry_se],'fractal_dimension_se':[fractal_dimension_se],\n",
    "     'radius_worst':[radius_worst],'texture_worst':[texture_worst],'perimeter_worst':[perimeter_worst],'area_worst':[area_worst],'smoothness_worst':[smoothness_worst],'compactness_worst':[compactness_worst],'concavity_worst':[concavity_worst],\n",
    "     'concave points_worst':[concave_points_worst],'symmetry_worst':[symmetry_worst],'fractal_dimension_worst':[fractal_dimension_worst]}\n",
    "\n",
    "\n",
    "dg=pd.DataFrame(arr)\n",
    "#dg=df.dropna(axis=1)\n",
    "#ouputforme=str(arr)\n",
    "#h=HTML(value=ouputforme)\n",
    "\n"
   ]
  },
  {
   "cell_type": "code",
   "execution_count": 21,
   "id": "84f21b70",
   "metadata": {},
   "outputs": [],
   "source": [
    "#split the dataset into independent (X) and dependent column (Y) data sets.\n",
    "#Y has the dagonostic whether the patient have cancer or not.While X have the features for cancer detection\n",
    "X = df.iloc[:,0:29].values\n",
    "Y=df.iloc[:,1].values\n"
   ]
  },
  {
   "cell_type": "code",
   "execution_count": 22,
   "id": "efbdfa49",
   "metadata": {},
   "outputs": [],
   "source": [
    "#Show another way to get metrics of the models\n",
    "from sklearn.metrics import classification_report\n",
    "from sklearn.metrics import accuracy_score\n",
    "\n",
    "\n",
    "#for i in range (len (model)): \n",
    "  #  print('Model',i)\n",
    "  #  print(classification_report(Y, model[i].predict(X)))\n",
    "  #  print(accuracy_score(Y, model[i].predict(X)))\n",
    "   # print()\n",
    "    "
   ]
  },
  {
   "cell_type": "code",
   "execution_count": 23,
   "id": "1a7e3911",
   "metadata": {},
   "outputs": [
    {
     "data": {
      "application/vnd.jupyter.widget-view+json": {
       "model_id": "23b1e4f936a544059ba70cbfdee3dfb9",
       "version_major": 2,
       "version_minor": 0
      },
      "text/plain": [
       "VBox(children=(Button(description='Press Enter', style=ButtonStyle()), Output()))"
      ]
     },
     "metadata": {},
     "output_type": "display_data"
    }
   ],
   "source": [
    "button = widgets.Button(description='Press Enter')\n",
    "out = widgets.Output()\n",
    "def on_button_clicked(_):\n",
    "      # \"linking function with output\"\n",
    "      with out:\n",
    "          # what happens when we press the button\n",
    "          clear_output()\n",
    "          print('You Entered in the following numbers')\n",
    "          display(dg)\n",
    "          for i in range (len (model)): \n",
    "            print('Model',i)\n",
    "            print(classification_report(Y, model[i].predict(X)))\n",
    "            print(accuracy_score(Y, model[i].predict(X)))\n",
    "            print()\n",
    "# linking button and function together using a button's method\n",
    "button.on_click(on_button_clicked)\n",
    "# displaying button and its output together\n",
    "widgets.VBox([button,out])"
   ]
  },
  {
   "cell_type": "code",
   "execution_count": 24,
   "id": "b965cb16",
   "metadata": {},
   "outputs": [],
   "source": [
    "#=pd.DataFrame(arr)\n",
    "#pred = model.predict(arr)\n",
    "#print(pred)"
   ]
  },
  {
   "cell_type": "code",
   "execution_count": 25,
   "id": "d4bbe2f6",
   "metadata": {},
   "outputs": [
    {
     "name": "stdout",
     "output_type": "stream",
     "text": [
      "Note: you may need to restart the kernel to use updated packages.\n"
     ]
    }
   ],
   "source": [
    "pip freeze > requirements.txt"
   ]
  }
 ],
 "metadata": {
  "kernelspec": {
   "display_name": "Python 3",
   "language": "python",
   "name": "python3"
  },
  "language_info": {
   "codemirror_mode": {
    "name": "ipython",
    "version": 3
   },
   "file_extension": ".py",
   "mimetype": "text/x-python",
   "name": "python",
   "nbconvert_exporter": "python",
   "pygments_lexer": "ipython3",
   "version": "3.8.3"
  }
 },
 "nbformat": 4,
 "nbformat_minor": 5
}
