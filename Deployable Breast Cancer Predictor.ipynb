{
 "cells": [
  {
   "cell_type": "code",
   "execution_count": 1,
   "id": "df83b500",
   "metadata": {},
   "outputs": [],
   "source": [
    "import warnings\n",
    "warnings.filterwarnings('ignore')"
   ]
  },
  {
   "cell_type": "code",
   "execution_count": 2,
   "id": "7de3bbdb",
   "metadata": {},
   "outputs": [],
   "source": [
    "#import libraries\n",
    "import numpy as np\n",
    "import pandas as pd\n",
    "import matplotlib.pyplot as plt\n",
    "import seaborn as sns\n",
    "\n",
    "import ipywidgets as widgets\n",
    "from ipywidgets import HTML\n",
    "from IPython.display import display, clear_output"
   ]
  },
  {
   "cell_type": "code",
   "execution_count": 3,
   "id": "f9798ad7",
   "metadata": {},
   "outputs": [],
   "source": [
    "#load the data\n",
    "df=pd.read_csv('data.csv')"
   ]
  },
  {
   "cell_type": "code",
   "execution_count": 4,
   "id": "e653da66",
   "metadata": {},
   "outputs": [],
   "source": [
    "#drop all the colums with empty values\n",
    "df=df.dropna(axis=1)"
   ]
  },
  {
   "cell_type": "code",
   "execution_count": 5,
   "id": "3f4950a1",
   "metadata": {},
   "outputs": [],
   "source": [
    "#Encode the categorical data value\n",
    "from sklearn.preprocessing import LabelEncoder\n",
    "labelencoder_Y = LabelEncoder()\n",
    "df.iloc[:,1]=labelencoder_Y.fit_transform(df.iloc[:,1].values)"
   ]
  },
  {
   "cell_type": "code",
   "execution_count": 6,
   "id": "805b4099",
   "metadata": {},
   "outputs": [],
   "source": [
    "#split the dataset into independent (X) and dependent column (Y) data sets.\n",
    "#Y has the dagonostic whether the patient have cancer or not.While X have the features for cancer detection\n",
    "X = df.iloc[:,2:31].values\n",
    "Y=df.iloc[:,1].values\n"
   ]
  },
  {
   "cell_type": "code",
   "execution_count": 7,
   "id": "990a6a86",
   "metadata": {},
   "outputs": [],
   "source": [
    "#Split the dataset into 75% training and 25% testing\n",
    "from sklearn.model_selection import train_test_split\n",
    "X_train, X_test, Y_train, Y_test=train_test_split(X, Y, test_size=0.25 ,random_state =0)"
   ]
  },
  {
   "cell_type": "code",
   "execution_count": 8,
   "id": "0551f9d2",
   "metadata": {},
   "outputs": [],
   "source": [
    "#Scale the data (Feature scaling)\n",
    "from sklearn.preprocessing import StandardScaler\n",
    "sc=StandardScaler()\n",
    "X_train=sc.fit_transform(X_train)\n",
    "X_test=sc.fit_transform(X_test)\n"
   ]
  },
  {
   "cell_type": "code",
   "execution_count": 9,
   "id": "87ba5339",
   "metadata": {},
   "outputs": [],
   "source": [
    "#create a function for the models\n",
    "def models(X_train, Y_train):\n",
    "    \n",
    "    #logistic Regression\n",
    "    from sklearn.linear_model import LogisticRegression\n",
    "    log=LogisticRegression(random_state=0)\n",
    "    log.fit(X_train, Y_train)\n",
    "    \n",
    "    #Decision Tree classicifier\n",
    "    from sklearn.tree import DecisionTreeClassifier\n",
    "    tree=DecisionTreeClassifier(criterion= 'entropy', random_state=0)\n",
    "    tree.fit(X_train,Y_train)\n",
    "    \n",
    "    #Random Forest Classifier\n",
    "    from sklearn.ensemble import RandomForestClassifier\n",
    "    forest= RandomForestClassifier(n_estimators = 10, criterion='entropy', random_state=0)\n",
    "    forest.fit(X_train,Y_train)\n",
    "    \n",
    "    #Print the models Accuracy of the data\n",
    "    print('[0] Logistic Regression training accuracy:',log.score(X_train, Y_train))\n",
    "    print('[1] Decision Tree training accuracy:',tree.score(X_train, Y_train))\n",
    "    print('[2] Random Forest Classifier training accuracy:',forest.score(X_train, Y_train))\n",
    "    \n",
    "    return log, tree,forest"
   ]
  },
  {
   "cell_type": "code",
   "execution_count": 10,
   "id": "5fb59aeb",
   "metadata": {},
   "outputs": [
    {
     "data": {
      "application/vnd.jupyter.widget-view+json": {
       "model_id": "835991236030408e95c2f4d7ecfc71ac",
       "version_major": 2,
       "version_minor": 0
      },
      "text/plain": [
       "Image(value=b'\\x89PNG\\r\\n\\x1a\\n\\x00\\x00\\x00\\rIHDR\\x00\\x00\\x05\\x00\\x00\\x00\\x05\\x00\\x08\\x06\\x00\\x00\\x00\\x18\\xe4\\…"
      ]
     },
     "metadata": {},
     "output_type": "display_data"
    },
    {
     "data": {
      "application/vnd.jupyter.widget-view+json": {
       "model_id": "85169809c7424dc6aa289675696427c1",
       "version_major": 2,
       "version_minor": 0
      },
      "text/plain": [
       "HTML(value='<h1>Breast Cancer Prediction Software</h1>')"
      ]
     },
     "metadata": {},
     "output_type": "display_data"
    }
   ],
   "source": [
    "images=open('cancer-2D_image.png','rb').read()\n",
    "wi1 = widgets.Image(value=images, format='png', width=300, height=400)\n",
    "\n",
    "h1=HTML(value='<h1>Breast Cancer Prediction Software</h1>')\n",
    "display(wi1,h1)"
   ]
  },
  {
   "cell_type": "code",
   "execution_count": 11,
   "id": "85cb4529",
   "metadata": {},
   "outputs": [
    {
     "name": "stdout",
     "output_type": "stream",
     "text": [
      "[0] Logistic Regression training accuracy: 0.9906103286384976\n",
      "[1] Decision Tree training accuracy: 1.0\n",
      "[2] Random Forest Classifier training accuracy: 0.9953051643192489\n"
     ]
    }
   ],
   "source": [
    "# here we will be getting of the models\n",
    "model = models(X_train, Y_train)"
   ]
  },
  {
   "cell_type": "code",
   "execution_count": 12,
   "id": "4eccc57f",
   "metadata": {},
   "outputs": [],
   "source": [
    "#Show another way to get metrics of the models\n",
    "#from sklearn.metrics import classification_report\n",
    "#from sklearn.metrics import accuracy_score\n",
    "\n",
    "#for i in range (len (model)): \n",
    "  #  print('Model',i)\n",
    "  #  print(classification_report(Y_test, model[i].predict(X_test)))\n",
    "   # print(accuracy_score(Y_test, model[i].predict(X_test)))\n",
    "   # print()\n",
    "    "
   ]
  },
  {
   "cell_type": "code",
   "execution_count": 13,
   "id": "b430f5e0",
   "metadata": {},
   "outputs": [],
   "source": [
    "#Print the prediction of the Radmon Forest Classifer Model\n",
    "pred = model[2].predict(X_test)\n"
   ]
  },
  {
   "cell_type": "code",
   "execution_count": 14,
   "id": "824da248",
   "metadata": {},
   "outputs": [
    {
     "data": {
      "application/vnd.jupyter.widget-view+json": {
       "model_id": "41eca788a5fe46d3a8875956c872eecb",
       "version_major": 2,
       "version_minor": 0
      },
      "text/plain": [
       "Label(value='radius mean')"
      ]
     },
     "metadata": {},
     "output_type": "display_data"
    },
    {
     "data": {
      "application/vnd.jupyter.widget-view+json": {
       "model_id": "c0d3594725844c7a8013473d04c550ee",
       "version_major": 2,
       "version_minor": 0
      },
      "text/plain": [
       "FloatText(value=6.981)"
      ]
     },
     "metadata": {},
     "output_type": "display_data"
    },
    {
     "data": {
      "application/vnd.jupyter.widget-view+json": {
       "model_id": "ff8f1395199043d692dd93a6b48a9c25",
       "version_major": 2,
       "version_minor": 0
      },
      "text/plain": [
       "Label(value='texture mean')"
      ]
     },
     "metadata": {},
     "output_type": "display_data"
    },
    {
     "data": {
      "application/vnd.jupyter.widget-view+json": {
       "model_id": "87fb5fde85ad437e9b8077765cdd846a",
       "version_major": 2,
       "version_minor": 0
      },
      "text/plain": [
       "FloatText(value=9.71)"
      ]
     },
     "metadata": {},
     "output_type": "display_data"
    },
    {
     "data": {
      "application/vnd.jupyter.widget-view+json": {
       "model_id": "02dccffab2c142d5b95a03450fb791bb",
       "version_major": 2,
       "version_minor": 0
      },
      "text/plain": [
       "Label(value='perimeter mean')"
      ]
     },
     "metadata": {},
     "output_type": "display_data"
    },
    {
     "data": {
      "application/vnd.jupyter.widget-view+json": {
       "model_id": "7a4ee9ee3d3f412fac326aa6694a6106",
       "version_major": 2,
       "version_minor": 0
      },
      "text/plain": [
       "FloatText(value=43.79)"
      ]
     },
     "metadata": {},
     "output_type": "display_data"
    },
    {
     "data": {
      "application/vnd.jupyter.widget-view+json": {
       "model_id": "b4341bb36b384487a42b894519a8fa61",
       "version_major": 2,
       "version_minor": 0
      },
      "text/plain": [
       "Label(value='area mean')"
      ]
     },
     "metadata": {},
     "output_type": "display_data"
    },
    {
     "data": {
      "application/vnd.jupyter.widget-view+json": {
       "model_id": "b1d5ec0b62b6404e93c85779bb16efea",
       "version_major": 2,
       "version_minor": 0
      },
      "text/plain": [
       "FloatText(value=143.5)"
      ]
     },
     "metadata": {},
     "output_type": "display_data"
    },
    {
     "data": {
      "application/vnd.jupyter.widget-view+json": {
       "model_id": "b4341bb36b384487a42b894519a8fa61",
       "version_major": 2,
       "version_minor": 0
      },
      "text/plain": [
       "Label(value='area mean')"
      ]
     },
     "metadata": {},
     "output_type": "display_data"
    },
    {
     "data": {
      "application/vnd.jupyter.widget-view+json": {
       "model_id": "b1d5ec0b62b6404e93c85779bb16efea",
       "version_major": 2,
       "version_minor": 0
      },
      "text/plain": [
       "FloatText(value=143.5)"
      ]
     },
     "metadata": {},
     "output_type": "display_data"
    },
    {
     "data": {
      "application/vnd.jupyter.widget-view+json": {
       "model_id": "d11da6bf9e2a414cbe94fd4358986235",
       "version_major": 2,
       "version_minor": 0
      },
      "text/plain": [
       "Label(value='compactness mean')"
      ]
     },
     "metadata": {},
     "output_type": "display_data"
    },
    {
     "data": {
      "application/vnd.jupyter.widget-view+json": {
       "model_id": "d0b05b60d6a24d38ab4d4063a0d2a845",
       "version_major": 2,
       "version_minor": 0
      },
      "text/plain": [
       "FloatText(value=0.01938)"
      ]
     },
     "metadata": {},
     "output_type": "display_data"
    },
    {
     "data": {
      "application/vnd.jupyter.widget-view+json": {
       "model_id": "c34bfc8842034b15aa7bfbf16250de88",
       "version_major": 2,
       "version_minor": 0
      },
      "text/plain": [
       "Label(value='concavity mean')"
      ]
     },
     "metadata": {},
     "output_type": "display_data"
    },
    {
     "data": {
      "application/vnd.jupyter.widget-view+json": {
       "model_id": "df0f6423c2fc4922a5e043f9ef14ed54",
       "version_major": 2,
       "version_minor": 0
      },
      "text/plain": [
       "FloatText(value=0.0)"
      ]
     },
     "metadata": {},
     "output_type": "display_data"
    },
    {
     "data": {
      "application/vnd.jupyter.widget-view+json": {
       "model_id": "f82b38d0973d44988eac48d70b69c5e2",
       "version_major": 2,
       "version_minor": 0
      },
      "text/plain": [
       "Label(value='concave points mean')"
      ]
     },
     "metadata": {},
     "output_type": "display_data"
    },
    {
     "data": {
      "application/vnd.jupyter.widget-view+json": {
       "model_id": "1f0ad4d0a4314831aa16d16383b970ad",
       "version_major": 2,
       "version_minor": 0
      },
      "text/plain": [
       "FloatText(value=0.0)"
      ]
     },
     "metadata": {},
     "output_type": "display_data"
    },
    {
     "data": {
      "application/vnd.jupyter.widget-view+json": {
       "model_id": "f6557b277e784177a7805854b70597b3",
       "version_major": 2,
       "version_minor": 0
      },
      "text/plain": [
       "Label(value='symmetry mean')"
      ]
     },
     "metadata": {},
     "output_type": "display_data"
    },
    {
     "data": {
      "application/vnd.jupyter.widget-view+json": {
       "model_id": "095f04bb304c4153be1a40c0ad03c8f6",
       "version_major": 2,
       "version_minor": 0
      },
      "text/plain": [
       "FloatText(value=0.106)"
      ]
     },
     "metadata": {},
     "output_type": "display_data"
    },
    {
     "data": {
      "application/vnd.jupyter.widget-view+json": {
       "model_id": "50ad9296903042fc9ccdf27e4e4fac89",
       "version_major": 2,
       "version_minor": 0
      },
      "text/plain": [
       "Label(value='fractal dimension mean')"
      ]
     },
     "metadata": {},
     "output_type": "display_data"
    },
    {
     "data": {
      "application/vnd.jupyter.widget-view+json": {
       "model_id": "5c2577234dd642229906bdf63c2a4bc3",
       "version_major": 2,
       "version_minor": 0
      },
      "text/plain": [
       "FloatText(value=0.04996)"
      ]
     },
     "metadata": {},
     "output_type": "display_data"
    }
   ],
   "source": [
    "radius_meantext=widgets.Label('radius mean')                  \n",
    "radius_mean=widgets.FloatText(value=6.981)\n",
    "display(radius_meantext,radius_mean)\n",
    "\n",
    "texture_meantext=widgets.Label('texture mean')                   \n",
    "texture_mean=widgets.FloatText(value=9.71)\n",
    "display(texture_meantext,texture_mean)\n",
    "\n",
    "perimeter_meantext=widgets.Label('perimeter mean')                \n",
    "perimeter_mean=widgets.FloatText(value=43.79)\n",
    "display(perimeter_meantext,perimeter_mean)\n",
    "\n",
    "area_meantext=widgets.Label('area mean')\n",
    "area_mean=widgets.FloatText(value=143.5)\n",
    "display(area_meantext,area_mean)\n",
    "\n",
    "smoothness_meantext=widgets.Label('smoothness mean')\n",
    "smoothness_mean=widgets.FloatText(value=0.05263)\n",
    "display(area_meantext,area_mean)\n",
    "\n",
    "compactness_meantext=widgets.Label('compactness mean')\n",
    "compactness_mean=widgets.FloatText(value=0.01938)\n",
    "display(compactness_meantext,compactness_mean)\n",
    "\n",
    "concavity_meantext=widgets.Label('concavity mean')\n",
    "concavity_mean=widgets.FloatText(value=0.0)\n",
    "display(concavity_meantext,concavity_mean)\n",
    "\n",
    "concave_points_meantext=widgets.Label('concave points mean')\n",
    "concave_points_mean=widgets.FloatText(value=0.0)\n",
    "display(concave_points_meantext,concave_points_mean)\n",
    "\n",
    "symmetry_meantext=widgets.Label('symmetry mean')\n",
    "symmetry_mean=widgets.FloatText(value=0.106)\n",
    "display(symmetry_meantext,symmetry_mean)\n",
    "\n",
    "fractal_dimension_meantext=widgets.Label('fractal dimension mean')\n",
    "fractal_dimension_mean=widgets.FloatText(value=0.04996)\n",
    "display(fractal_dimension_meantext,fractal_dimension_mean)"
   ]
  },
  {
   "cell_type": "code",
   "execution_count": 15,
   "id": "8939b27e",
   "metadata": {},
   "outputs": [
    {
     "data": {
      "application/vnd.jupyter.widget-view+json": {
       "model_id": "649e104be96d45db9ab6d25d48a1711e",
       "version_major": 2,
       "version_minor": 0
      },
      "text/plain": [
       "Label(value='radius se')"
      ]
     },
     "metadata": {},
     "output_type": "display_data"
    },
    {
     "data": {
      "application/vnd.jupyter.widget-view+json": {
       "model_id": "cc57ab66bbaf4af794b2c7cb64aeb70c",
       "version_major": 2,
       "version_minor": 0
      },
      "text/plain": [
       "FloatText(value=0.1115)"
      ]
     },
     "metadata": {},
     "output_type": "display_data"
    },
    {
     "data": {
      "application/vnd.jupyter.widget-view+json": {
       "model_id": "fb28d2449dc6464cadbd0ab0319ea35c",
       "version_major": 2,
       "version_minor": 0
      },
      "text/plain": [
       "Label(value='texture se')"
      ]
     },
     "metadata": {},
     "output_type": "display_data"
    },
    {
     "data": {
      "application/vnd.jupyter.widget-view+json": {
       "model_id": "7289a3d13d85482a96524e383f56b6f6",
       "version_major": 2,
       "version_minor": 0
      },
      "text/plain": [
       "FloatText(value=0.3602)"
      ]
     },
     "metadata": {},
     "output_type": "display_data"
    },
    {
     "data": {
      "application/vnd.jupyter.widget-view+json": {
       "model_id": "f331b22da5f644afa427502afbb31e63",
       "version_major": 2,
       "version_minor": 0
      },
      "text/plain": [
       "Label(value='perimeter se')"
      ]
     },
     "metadata": {},
     "output_type": "display_data"
    },
    {
     "data": {
      "application/vnd.jupyter.widget-view+json": {
       "model_id": "8d89b2e929bf440a89398252577f2907",
       "version_major": 2,
       "version_minor": 0
      },
      "text/plain": [
       "FloatText(value=0.757)"
      ]
     },
     "metadata": {},
     "output_type": "display_data"
    },
    {
     "data": {
      "application/vnd.jupyter.widget-view+json": {
       "model_id": "4f707693f537440c975b19d099c3cd32",
       "version_major": 2,
       "version_minor": 0
      },
      "text/plain": [
       "Label(value='area se')"
      ]
     },
     "metadata": {},
     "output_type": "display_data"
    },
    {
     "data": {
      "application/vnd.jupyter.widget-view+json": {
       "model_id": "f4905175a83d4d1c8662a8e7cde1c012",
       "version_major": 2,
       "version_minor": 0
      },
      "text/plain": [
       "FloatText(value=143.5)"
      ]
     },
     "metadata": {},
     "output_type": "display_data"
    },
    {
     "data": {
      "application/vnd.jupyter.widget-view+json": {
       "model_id": "ea0647397ffb4e929adaca97e6248213",
       "version_major": 2,
       "version_minor": 0
      },
      "text/plain": [
       "Label(value='smoothness se')"
      ]
     },
     "metadata": {},
     "output_type": "display_data"
    },
    {
     "data": {
      "application/vnd.jupyter.widget-view+json": {
       "model_id": "a100dd7f6d45410a9ccd70423ff9fbb4",
       "version_major": 2,
       "version_minor": 0
      },
      "text/plain": [
       "FloatText(value=0.001713)"
      ]
     },
     "metadata": {},
     "output_type": "display_data"
    },
    {
     "data": {
      "application/vnd.jupyter.widget-view+json": {
       "model_id": "9e86dc8a8c5448c4a78457b3cbe56676",
       "version_major": 2,
       "version_minor": 0
      },
      "text/plain": [
       "Label(value='compactness se')"
      ]
     },
     "metadata": {},
     "output_type": "display_data"
    },
    {
     "data": {
      "application/vnd.jupyter.widget-view+json": {
       "model_id": "2ed007832c5d44979f7488ca53249455",
       "version_major": 2,
       "version_minor": 0
      },
      "text/plain": [
       "FloatText(value=0.002252)"
      ]
     },
     "metadata": {},
     "output_type": "display_data"
    },
    {
     "data": {
      "application/vnd.jupyter.widget-view+json": {
       "model_id": "5f66880012fa40379727b6eaa253159c",
       "version_major": 2,
       "version_minor": 0
      },
      "text/plain": [
       "Label(value='concavity se')"
      ]
     },
     "metadata": {},
     "output_type": "display_data"
    },
    {
     "data": {
      "application/vnd.jupyter.widget-view+json": {
       "model_id": "11a3052150f246a3b600dc213823c655",
       "version_major": 2,
       "version_minor": 0
      },
      "text/plain": [
       "FloatText(value=0.0)"
      ]
     },
     "metadata": {},
     "output_type": "display_data"
    },
    {
     "data": {
      "application/vnd.jupyter.widget-view+json": {
       "model_id": "b494e8a031314ea1889b6cbb64813939",
       "version_major": 2,
       "version_minor": 0
      },
      "text/plain": [
       "Label(value='concave points se')"
      ]
     },
     "metadata": {},
     "output_type": "display_data"
    },
    {
     "data": {
      "application/vnd.jupyter.widget-view+json": {
       "model_id": "931db2c28e4142139d8efe2c7e555ddf",
       "version_major": 2,
       "version_minor": 0
      },
      "text/plain": [
       "FloatText(value=0.0)"
      ]
     },
     "metadata": {},
     "output_type": "display_data"
    },
    {
     "data": {
      "application/vnd.jupyter.widget-view+json": {
       "model_id": "bb1ff9a5443b4384bdd59c9439e4e4fb",
       "version_major": 2,
       "version_minor": 0
      },
      "text/plain": [
       "Label(value='symmetry se')"
      ]
     },
     "metadata": {},
     "output_type": "display_data"
    },
    {
     "data": {
      "application/vnd.jupyter.widget-view+json": {
       "model_id": "67292ac3c7c049778ead01c83e51b14d",
       "version_major": 2,
       "version_minor": 0
      },
      "text/plain": [
       "FloatText(value=0.007882)"
      ]
     },
     "metadata": {},
     "output_type": "display_data"
    },
    {
     "data": {
      "application/vnd.jupyter.widget-view+json": {
       "model_id": "23267702839348af97e2391a2f87deba",
       "version_major": 2,
       "version_minor": 0
      },
      "text/plain": [
       "Label(value='fractal dimension se')"
      ]
     },
     "metadata": {},
     "output_type": "display_data"
    },
    {
     "data": {
      "application/vnd.jupyter.widget-view+json": {
       "model_id": "7e4095f88fc647bbade77dae6b6fa212",
       "version_major": 2,
       "version_minor": 0
      },
      "text/plain": [
       "FloatText(value=0.000895)"
      ]
     },
     "metadata": {},
     "output_type": "display_data"
    }
   ],
   "source": [
    "radius_setext=widgets.Label('radius se')                  \n",
    "radius_se=widgets.FloatText(value=0.1115)\n",
    "display(radius_setext,radius_se)\n",
    "\n",
    "texture_setext=widgets.Label('texture se')                   \n",
    "texture_se=widgets.FloatText(value=0.3602)\n",
    "display(texture_setext,texture_se)\n",
    "\n",
    "perimeter_setext=widgets.Label('perimeter se')                \n",
    "perimeter_se=widgets.FloatText(value=0.757)\n",
    "display(perimeter_setext,perimeter_se)\n",
    "\n",
    "area_setext=widgets.Label('area se')\n",
    "area_se=widgets.FloatText(value=143.5)\n",
    "display(area_setext,area_se)\n",
    "\n",
    "smoothness_setext=widgets.Label('smoothness se')\n",
    "smoothness_se=widgets.FloatText(value=0.001713)\n",
    "display(smoothness_setext,smoothness_se)\n",
    "\n",
    "compactness_setext=widgets.Label('compactness se')\n",
    "compactness_se=widgets.FloatText(value=0.002252)\n",
    "display(compactness_setext,compactness_se)\n",
    "\n",
    "concavity_setext=widgets.Label('concavity se')\n",
    "concavity_se=widgets.FloatText(value=0.0)\n",
    "display(concavity_setext,concavity_se)\n",
    "\n",
    "concave_points_setext=widgets.Label('concave points se')\n",
    "concave_points_se=widgets.FloatText(value=0.0)\n",
    "display(concave_points_setext,concave_points_se)\n",
    "\n",
    "symmetry_setext=widgets.Label('symmetry se')\n",
    "symmetry_se=widgets.FloatText(value=0.007882)\n",
    "display(symmetry_setext,symmetry_se)\n",
    "\n",
    "fractal_dimension_setext=widgets.Label('fractal dimension se')\n",
    "fractal_dimension_se=widgets.FloatText(value=0.000895)\n",
    "display(fractal_dimension_setext,fractal_dimension_se)"
   ]
  },
  {
   "cell_type": "code",
   "execution_count": 16,
   "id": "ed526e3f",
   "metadata": {},
   "outputs": [
    {
     "data": {
      "application/vnd.jupyter.widget-view+json": {
       "model_id": "f09bd88871ae40e38773c0e998d54000",
       "version_major": 2,
       "version_minor": 0
      },
      "text/plain": [
       "Label(value='radius worst')"
      ]
     },
     "metadata": {},
     "output_type": "display_data"
    },
    {
     "data": {
      "application/vnd.jupyter.widget-view+json": {
       "model_id": "48cad8f8dc2040058ef133d7f8c372c2",
       "version_major": 2,
       "version_minor": 0
      },
      "text/plain": [
       "FloatText(value=7.93)"
      ]
     },
     "metadata": {},
     "output_type": "display_data"
    },
    {
     "data": {
      "application/vnd.jupyter.widget-view+json": {
       "model_id": "9bb0bcc7f82142e5b21777e848b58405",
       "version_major": 2,
       "version_minor": 0
      },
      "text/plain": [
       "Label(value='texture worst')"
      ]
     },
     "metadata": {},
     "output_type": "display_data"
    },
    {
     "data": {
      "application/vnd.jupyter.widget-view+json": {
       "model_id": "eba6151bc2994e3095f17a226d0c9107",
       "version_major": 2,
       "version_minor": 0
      },
      "text/plain": [
       "FloatText(value=12.02)"
      ]
     },
     "metadata": {},
     "output_type": "display_data"
    },
    {
     "data": {
      "application/vnd.jupyter.widget-view+json": {
       "model_id": "d6e979efb0884573930371a7ffe3a113",
       "version_major": 2,
       "version_minor": 0
      },
      "text/plain": [
       "Label(value='perimeter worst')"
      ]
     },
     "metadata": {},
     "output_type": "display_data"
    },
    {
     "data": {
      "application/vnd.jupyter.widget-view+json": {
       "model_id": "9f45a980496740cb819a62de9b496bb1",
       "version_major": 2,
       "version_minor": 0
      },
      "text/plain": [
       "FloatText(value=50.41)"
      ]
     },
     "metadata": {},
     "output_type": "display_data"
    },
    {
     "data": {
      "application/vnd.jupyter.widget-view+json": {
       "model_id": "6d07f39a32d54d27adb7a840a356e482",
       "version_major": 2,
       "version_minor": 0
      },
      "text/plain": [
       "Label(value='area worst')"
      ]
     },
     "metadata": {},
     "output_type": "display_data"
    },
    {
     "data": {
      "application/vnd.jupyter.widget-view+json": {
       "model_id": "0b53be36df4a4651aa8080f94800a1bb",
       "version_major": 2,
       "version_minor": 0
      },
      "text/plain": [
       "FloatText(value=185.2)"
      ]
     },
     "metadata": {},
     "output_type": "display_data"
    },
    {
     "data": {
      "application/vnd.jupyter.widget-view+json": {
       "model_id": "64044d9d6660496c81eec4a041fa7da7",
       "version_major": 2,
       "version_minor": 0
      },
      "text/plain": [
       "Label(value='smoothness worst')"
      ]
     },
     "metadata": {},
     "output_type": "display_data"
    },
    {
     "data": {
      "application/vnd.jupyter.widget-view+json": {
       "model_id": "c723173f187243dfa195b62077dcb9b2",
       "version_major": 2,
       "version_minor": 0
      },
      "text/plain": [
       "FloatText(value=0.07117)"
      ]
     },
     "metadata": {},
     "output_type": "display_data"
    },
    {
     "data": {
      "application/vnd.jupyter.widget-view+json": {
       "model_id": "a03a415421a14b899406f9010d3831b3",
       "version_major": 2,
       "version_minor": 0
      },
      "text/plain": [
       "Label(value='compactness worst')"
      ]
     },
     "metadata": {},
     "output_type": "display_data"
    },
    {
     "data": {
      "application/vnd.jupyter.widget-view+json": {
       "model_id": "e8960057b7904f4d9e38d983901aaa24",
       "version_major": 2,
       "version_minor": 0
      },
      "text/plain": [
       "FloatText(value=0.02729)"
      ]
     },
     "metadata": {},
     "output_type": "display_data"
    },
    {
     "data": {
      "application/vnd.jupyter.widget-view+json": {
       "model_id": "8178a98c59724bbe981839d6a42105b7",
       "version_major": 2,
       "version_minor": 0
      },
      "text/plain": [
       "Label(value='concavity se')"
      ]
     },
     "metadata": {},
     "output_type": "display_data"
    },
    {
     "data": {
      "application/vnd.jupyter.widget-view+json": {
       "model_id": "81428910051243cf9706fea8048bf682",
       "version_major": 2,
       "version_minor": 0
      },
      "text/plain": [
       "FloatText(value=0.0)"
      ]
     },
     "metadata": {},
     "output_type": "display_data"
    },
    {
     "data": {
      "application/vnd.jupyter.widget-view+json": {
       "model_id": "9ad478179eae49edacb116aa2d339b18",
       "version_major": 2,
       "version_minor": 0
      },
      "text/plain": [
       "Label(value='concave points worst')"
      ]
     },
     "metadata": {},
     "output_type": "display_data"
    },
    {
     "data": {
      "application/vnd.jupyter.widget-view+json": {
       "model_id": "ed4aa1a1475147ff8fc16554c1641dce",
       "version_major": 2,
       "version_minor": 0
      },
      "text/plain": [
       "FloatText(value=0.0)"
      ]
     },
     "metadata": {},
     "output_type": "display_data"
    },
    {
     "data": {
      "application/vnd.jupyter.widget-view+json": {
       "model_id": "52811f2d356543ad836e278cf4bf2d6c",
       "version_major": 2,
       "version_minor": 0
      },
      "text/plain": [
       "Label(value='symmetry worst')"
      ]
     },
     "metadata": {},
     "output_type": "display_data"
    },
    {
     "data": {
      "application/vnd.jupyter.widget-view+json": {
       "model_id": "b5b95187a62c46b1af4f475b9cb8a6d1",
       "version_major": 2,
       "version_minor": 0
      },
      "text/plain": [
       "FloatText(value=0.1565)"
      ]
     },
     "metadata": {},
     "output_type": "display_data"
    },
    {
     "data": {
      "application/vnd.jupyter.widget-view+json": {
       "model_id": "48fc38de1a214a7e9b3068134460ec55",
       "version_major": 2,
       "version_minor": 0
      },
      "text/plain": [
       "Label(value='fractal dimension worst')"
      ]
     },
     "metadata": {},
     "output_type": "display_data"
    },
    {
     "data": {
      "application/vnd.jupyter.widget-view+json": {
       "model_id": "835f0192768148e4a56c03869383f9c9",
       "version_major": 2,
       "version_minor": 0
      },
      "text/plain": [
       "FloatText(value=0.05504)"
      ]
     },
     "metadata": {},
     "output_type": "display_data"
    }
   ],
   "source": [
    "radius_worsttext=widgets.Label('radius worst')                  \n",
    "radius_worst=widgets.FloatText(value=7.93)\n",
    "display(radius_worsttext,radius_worst)\n",
    "\n",
    "texture_worsttext=widgets.Label('texture worst')                   \n",
    "texture_worst=widgets.FloatText(value=12.02)\n",
    "display(texture_worsttext,texture_worst)\n",
    "\n",
    "perimeter_worsttext=widgets.Label('perimeter worst')                \n",
    "perimeter_worst=widgets.FloatText(value=50.41)\n",
    "display(perimeter_worsttext,perimeter_worst)\n",
    "\n",
    "area_worsttext=widgets.Label('area worst')\n",
    "area_worst=widgets.FloatText(value=185.2)\n",
    "display(area_worsttext,area_worst)\n",
    "\n",
    "smoothness_worsttext=widgets.Label('smoothness worst')\n",
    "smoothness_worst=widgets.FloatText(value=0.07117)\n",
    "display(smoothness_worsttext,smoothness_worst)\n",
    "\n",
    "compactness_worsttext=widgets.Label('compactness worst')\n",
    "compactness_worst=widgets.FloatText(value=0.02729)\n",
    "display(compactness_worsttext,compactness_worst)\n",
    "\n",
    "concavity_worsttext=widgets.Label('concavity se')\n",
    "concavity_worst=widgets.FloatText(value=0.0)\n",
    "display(concavity_worsttext,concavity_worst)\n",
    "\n",
    "concave_points_worsttext=widgets.Label('concave points worst')\n",
    "concave_points_worst=widgets.FloatText(value=0.0)\n",
    "display(concave_points_worsttext,concave_points_worst)\n",
    "\n",
    "symmetry_worsttext=widgets.Label('symmetry worst')\n",
    "symmetry_worst=widgets.FloatText(value=0.1565)\n",
    "display(symmetry_worsttext,symmetry_worst)\n",
    "\n",
    "fractal_dimension_worsttext=widgets.Label('fractal dimension worst')\n",
    "fractal_dimension_worst=widgets.FloatText(value=0.05504)\n",
    "display(fractal_dimension_worsttext,fractal_dimension_worst)"
   ]
  },
  {
   "cell_type": "code",
   "execution_count": 17,
   "id": "1baa97c6",
   "metadata": {},
   "outputs": [],
   "source": [
    "radius_mean=radius_mean.value\n",
    "           \n",
    "texture_mean=texture_mean.value\n",
    "             \n",
    "perimeter_mean=perimeter_mean.value\n",
    "\n",
    "area_mean=area_mean.value\n",
    "\n",
    "smoothness_mean=smoothness_mean.value\n",
    "\n",
    "compactness_mean=compactness_mean.value\n",
    "\n",
    "concavity_mean=concavity_mean.value\n",
    "\n",
    "concave_points_mean=concave_points_mean.value\n",
    "\n",
    "symmetry_mean=symmetry_mean.value\n",
    "\n",
    "fractal_dimension_mean=fractal_dimension_mean.value"
   ]
  },
  {
   "cell_type": "code",
   "execution_count": 18,
   "id": "06682fb8",
   "metadata": {},
   "outputs": [],
   "source": [
    "                \n",
    "radius_se=radius_se.value\n",
    "           \n",
    "texture_se=texture_se.value\n",
    "             \n",
    "perimeter_se=perimeter_se.value\n",
    "\n",
    "area_se=area_se.value\n",
    "\n",
    "smoothness_se=smoothness_se.value\n",
    "\n",
    "compactness_se=compactness_se.value\n",
    "\n",
    "concavity_se=concavity_se.value\n",
    "\n",
    "concave_points_se=concave_points_se.value\n",
    "\n",
    "symmetry_se=symmetry_se.value\n",
    "\n",
    "fractal_dimension_se=fractal_dimension_se.value\n"
   ]
  },
  {
   "cell_type": "code",
   "execution_count": 19,
   "id": "a80ef2a1",
   "metadata": {},
   "outputs": [],
   "source": [
    "radius_worst=radius_worst.value\n",
    "           \n",
    "texture_worst=texture_worst.value\n",
    "             \n",
    "perimeter_worst=perimeter_worst.value\n",
    "\n",
    "area_worst=area_worst.value\n",
    "\n",
    "smoothness_worst=smoothness_worst.value\n",
    "\n",
    "compactness_worst=compactness_worst.value\n",
    "\n",
    "concavity_worst=concavity_worst.value\n",
    "\n",
    "concave_points_worst=concave_points_worst.value\n",
    "\n",
    "symmetry_worst=symmetry_worst.value\n",
    "\n",
    "fractal_dimension_worst=fractal_dimension_worst.value"
   ]
  },
  {
   "cell_type": "code",
   "execution_count": 20,
   "id": "15baf1bd",
   "metadata": {},
   "outputs": [],
   "source": [
    "arr={'radius_mean':[radius_mean],'texture_mean':[texture_mean],'perimeter_mean':[perimeter_mean],'area_mean':[area_mean],'smoothness_mean':[smoothness_mean],'compactness_mean':[compactness_mean],'concavity_mean':[concavity_mean],\n",
    "     'concave points_mean':[concave_points_mean],'symmetry_mean':[symmetry_mean],'fractal_dimension_mean':[fractal_dimension_mean],\n",
    "     'radius_se':[radius_se],'texture_se':[texture_se],'perimeter_se':[perimeter_se],'area_se':[area_se],'smoothness_se':[smoothness_se],'compactness_se':[compactness_se],'concavity_se':[concavity_se],'concave points_se':[concave_points_se],\n",
    "     'symmetry_se':[symmetry_se],'fractal_dimension_se':[fractal_dimension_se],\n",
    "     'radius_worst':[radius_worst],'texture_worst':[texture_worst],'perimeter_worst':[perimeter_worst],'area_worst':[area_worst],'smoothness_worst':[smoothness_worst],'compactness_worst':[compactness_worst],'concavity_worst':[concavity_worst],\n",
    "     'concave points_worst':[concave_points_worst],'symmetry_worst':[symmetry_worst],'fractal_dimension_worst':[fractal_dimension_worst]}\n",
    "\n",
    "\n",
    "dg=pd.DataFrame(arr)\n",
    "#dg=df.dropna(axis=1)\n",
    "#ouputforme=str(arr)\n",
    "#h=HTML(value=ouputforme)\n",
    "\n"
   ]
  },
  {
   "cell_type": "code",
   "execution_count": 21,
   "id": "84f21b70",
   "metadata": {},
   "outputs": [],
   "source": [
    "#split the dataset into independent (X) and dependent column (Y) data sets.\n",
    "#Y has the dagonostic whether the patient have cancer or not.While X have the features for cancer detection\n",
    "X = df.iloc[:,0:29].values\n",
    "Y=df.iloc[:,1].values\n"
   ]
  },
  {
   "cell_type": "code",
   "execution_count": 22,
   "id": "efbdfa49",
   "metadata": {},
   "outputs": [],
   "source": [
    "#Show another way to get metrics of the models\n",
    "from sklearn.metrics import classification_report\n",
    "from sklearn.metrics import accuracy_score\n",
    "\n",
    "\n",
    "#for i in range (len (model)): \n",
    "  #  print('Model',i)\n",
    "  #  print(classification_report(Y, model[i].predict(X)))\n",
    "  #  print(accuracy_score(Y, model[i].predict(X)))\n",
    "   # print()\n",
    "    "
   ]
  },
  {
   "cell_type": "code",
   "execution_count": 23,
   "id": "1a7e3911",
   "metadata": {},
   "outputs": [
    {
     "data": {
      "application/vnd.jupyter.widget-view+json": {
       "model_id": "d059aaf93122440db7b4849351a0106b",
       "version_major": 2,
       "version_minor": 0
      },
      "text/plain": [
       "VBox(children=(Button(description='My Button', style=ButtonStyle()), Output()))"
      ]
     },
     "metadata": {},
     "output_type": "display_data"
    }
   ],
   "source": [
    "button = widgets.Button(description='My Button')\n",
    "out = widgets.Output()\n",
    "def on_button_clicked(_):\n",
    "      # \"linking function with output\"\n",
    "      with out:\n",
    "          # what happens when we press the button\n",
    "          clear_output()\n",
    "          print('You Entered in the following numbers')\n",
    "          display(dg)\n",
    "          for i in range (len (model)): \n",
    "            print('Model',i)\n",
    "            print(classification_report(Y, model[i].predict(X)))\n",
    "            print(accuracy_score(Y, model[i].predict(X)))\n",
    "            print()\n",
    "# linking button and function together using a button's method\n",
    "button.on_click(on_button_clicked)\n",
    "# displaying button and its output together\n",
    "widgets.VBox([button,out])"
   ]
  },
  {
   "cell_type": "code",
   "execution_count": 24,
   "id": "b965cb16",
   "metadata": {},
   "outputs": [],
   "source": [
    "#=pd.DataFrame(arr)\n",
    "#pred = model.predict(arr)\n",
    "#print(pred)"
   ]
  },
  {
   "cell_type": "code",
   "execution_count": 25,
   "id": "d4bbe2f6",
   "metadata": {},
   "outputs": [],
   "source": [
    "!pip freeze > requirements.txt"
   ]
  }
 ],
 "metadata": {
  "kernelspec": {
   "display_name": "Python 3",
   "language": "python",
   "name": "python3"
  },
  "language_info": {
   "codemirror_mode": {
    "name": "ipython",
    "version": 3
   },
   "file_extension": ".py",
   "mimetype": "text/x-python",
   "name": "python",
   "nbconvert_exporter": "python",
   "pygments_lexer": "ipython3",
   "version": "3.8.3"
  }
 },
 "nbformat": 4,
 "nbformat_minor": 5
}
