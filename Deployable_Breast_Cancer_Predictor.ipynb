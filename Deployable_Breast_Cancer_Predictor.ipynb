{
 "cells": [
  {
   "cell_type": "code",
   "execution_count": 1,
   "id": "df83b500",
   "metadata": {},
   "outputs": [],
   "source": [
    "import warnings\n",
    "warnings.filterwarnings('ignore')"
   ]
  },
  {
   "cell_type": "code",
   "execution_count": 2,
   "id": "7de3bbdb",
   "metadata": {},
   "outputs": [],
   "source": [
    "#import libraries\n",
    "import numpy as np\n",
    "import pandas as pd\n",
    "import matplotlib.pyplot as plt\n",
    "import seaborn as sns\n",
    "\n",
    "import ipywidgets as widgets\n",
    "from ipywidgets import HTML\n",
    "from IPython.display import display, clear_output"
   ]
  },
  {
   "cell_type": "code",
   "execution_count": 3,
   "id": "f9798ad7",
   "metadata": {},
   "outputs": [],
   "source": [
    "#load the data\n",
    "df=pd.read_csv('data.csv')"
   ]
  },
  {
   "cell_type": "code",
   "execution_count": 4,
   "id": "e653da66",
   "metadata": {},
   "outputs": [],
   "source": [
    "#drop all the colums with empty values\n",
    "df=df.dropna(axis=1)"
   ]
  },
  {
   "cell_type": "code",
   "execution_count": 5,
   "id": "3f4950a1",
   "metadata": {},
   "outputs": [],
   "source": [
    "#Encode the categorical data value\n",
    "from sklearn.preprocessing import LabelEncoder\n",
    "labelencoder_Y = LabelEncoder()\n",
    "df.iloc[:,1]=labelencoder_Y.fit_transform(df.iloc[:,1].values)"
   ]
  },
  {
   "cell_type": "code",
   "execution_count": 6,
   "id": "805b4099",
   "metadata": {},
   "outputs": [],
   "source": [
    "#split the dataset into independent (X) and dependent column (Y) data sets.\n",
    "#Y has the dagonostic whether the patient have cancer or not.While X have the features for cancer detection\n",
    "X = df.iloc[:,2:31].values\n",
    "Y=df.iloc[:,1].values\n"
   ]
  },
  {
   "cell_type": "code",
   "execution_count": 7,
   "id": "990a6a86",
   "metadata": {},
   "outputs": [],
   "source": [
    "#Split the dataset into 75% training and 25% testing\n",
    "from sklearn.model_selection import train_test_split\n",
    "X_train, X_test, Y_train, Y_test=train_test_split(X, Y, test_size=0.25 ,random_state =0)"
   ]
  },
  {
   "cell_type": "code",
   "execution_count": 8,
   "id": "0551f9d2",
   "metadata": {},
   "outputs": [],
   "source": [
    "#Scale the data (Feature scaling)\n",
    "from sklearn.preprocessing import StandardScaler\n",
    "sc=StandardScaler()\n",
    "X_train=sc.fit_transform(X_train)\n",
    "X_test=sc.fit_transform(X_test)\n"
   ]
  },
  {
   "cell_type": "code",
   "execution_count": 9,
   "id": "87ba5339",
   "metadata": {},
   "outputs": [],
   "source": [
    "#create a function for the models\n",
    "def models(X_train, Y_train):\n",
    "    \n",
    "    #logistic Regression\n",
    "    from sklearn.linear_model import LogisticRegression\n",
    "    log=LogisticRegression(random_state=0)\n",
    "    log.fit(X_train, Y_train)\n",
    "    \n",
    "    #Decision Tree classicifier\n",
    "    from sklearn.tree import DecisionTreeClassifier\n",
    "    tree=DecisionTreeClassifier(criterion= 'entropy', random_state=0)\n",
    "    tree.fit(X_train,Y_train)\n",
    "    \n",
    "    #Random Forest Classifier\n",
    "    from sklearn.ensemble import RandomForestClassifier\n",
    "    forest= RandomForestClassifier(n_estimators = 10, criterion='entropy', random_state=0)\n",
    "    forest.fit(X_train,Y_train)\n",
    "    \n",
    "    #Print the models Accuracy of the data\n",
    "    print('[0] Logistic Regression training accuracy:',log.score(X_train, Y_train))\n",
    "    print('[1] Decision Tree training accuracy:',tree.score(X_train, Y_train))\n",
    "    print('[2] Random Forest Classifier training accuracy:',forest.score(X_train, Y_train))\n",
    "    \n",
    "    return log, tree,forest"
   ]
  },
  {
   "cell_type": "code",
   "execution_count": 10,
   "id": "5fb59aeb",
   "metadata": {},
   "outputs": [
    {
     "data": {
      "application/vnd.jupyter.widget-view+json": {
       "model_id": "301348a943c049f4b9ab71a9b3940f66",
       "version_major": 2,
       "version_minor": 0
      },
      "text/plain": [
       "Image(value=b'\\x89PNG\\r\\n\\x1a\\n\\x00\\x00\\x00\\rIHDR\\x00\\x00\\x05\\x00\\x00\\x00\\x05\\x00\\x08\\x06\\x00\\x00\\x00\\x18\\xe4\\…"
      ]
     },
     "metadata": {},
     "output_type": "display_data"
    },
    {
     "data": {
      "application/vnd.jupyter.widget-view+json": {
       "model_id": "b6deabf138984515848611be2d350b64",
       "version_major": 2,
       "version_minor": 0
      },
      "text/plain": [
       "HTML(value='<h1>Breast Cancer Prediction Software</h1>')"
      ]
     },
     "metadata": {},
     "output_type": "display_data"
    }
   ],
   "source": [
    "images=open('cancer-2D_image.png','rb').read()\n",
    "wi1 = widgets.Image(value=images, format='png', width=300, height=400)\n",
    "\n",
    "h1=HTML(value='<h1>Breast Cancer Prediction Software</h1>')\n",
    "display(wi1,h1)"
   ]
  },
  {
   "cell_type": "code",
   "execution_count": 11,
   "id": "85cb4529",
   "metadata": {},
   "outputs": [
    {
     "name": "stdout",
     "output_type": "stream",
     "text": [
      "[0] Logistic Regression training accuracy: 0.9906103286384976\n",
      "[1] Decision Tree training accuracy: 1.0\n",
      "[2] Random Forest Classifier training accuracy: 0.9953051643192489\n"
     ]
    }
   ],
   "source": [
    "# here we will be getting of the models\n",
    "model = models(X_train, Y_train)"
   ]
  },
  {
   "cell_type": "code",
   "execution_count": 12,
   "id": "4eccc57f",
   "metadata": {},
   "outputs": [],
   "source": [
    "#Show another way to get metrics of the models\n",
    "#from sklearn.metrics import classification_report\n",
    "#from sklearn.metrics import accuracy_score\n",
    "\n",
    "#for i in range (len (model)): \n",
    "  #  print('Model',i)\n",
    "  #  print(classification_report(Y_test, model[i].predict(X_test)))\n",
    "   # print(accuracy_score(Y_test, model[i].predict(X_test)))\n",
    "   # print()\n",
    "    "
   ]
  },
  {
   "cell_type": "code",
   "execution_count": 13,
   "id": "b430f5e0",
   "metadata": {},
   "outputs": [],
   "source": [
    "#Print the prediction of the Radmon Forest Classifer Model\n",
    "pred = model[2].predict(X_test)\n"
   ]
  },
  {
   "cell_type": "code",
   "execution_count": 14,
   "id": "824da248",
   "metadata": {},
   "outputs": [
    {
     "data": {
      "application/vnd.jupyter.widget-view+json": {
       "model_id": "d65d57b439e242dea1c255f14c87e34e",
       "version_major": 2,
       "version_minor": 0
      },
      "text/plain": [
       "Label(value='radius mean')"
      ]
     },
     "metadata": {},
     "output_type": "display_data"
    },
    {
     "data": {
      "application/vnd.jupyter.widget-view+json": {
       "model_id": "3b85c78262394d739e27275cb4ac2f2f",
       "version_major": 2,
       "version_minor": 0
      },
      "text/plain": [
       "FloatText(value=6.981)"
      ]
     },
     "metadata": {},
     "output_type": "display_data"
    },
    {
     "data": {
      "application/vnd.jupyter.widget-view+json": {
       "model_id": "32b6de202bae4095a74e3fba51f78966",
       "version_major": 2,
       "version_minor": 0
      },
      "text/plain": [
       "Label(value='texture mean')"
      ]
     },
     "metadata": {},
     "output_type": "display_data"
    },
    {
     "data": {
      "application/vnd.jupyter.widget-view+json": {
       "model_id": "67d4a9d78faf4e02a02e76bdbd6c46c8",
       "version_major": 2,
       "version_minor": 0
      },
      "text/plain": [
       "FloatText(value=9.71)"
      ]
     },
     "metadata": {},
     "output_type": "display_data"
    },
    {
     "data": {
      "application/vnd.jupyter.widget-view+json": {
       "model_id": "2a32a88da6164ddaba353cda2616c88b",
       "version_major": 2,
       "version_minor": 0
      },
      "text/plain": [
       "Label(value='perimeter mean')"
      ]
     },
     "metadata": {},
     "output_type": "display_data"
    },
    {
     "data": {
      "application/vnd.jupyter.widget-view+json": {
       "model_id": "828b7e0f301a40eb98f7dda229db2c5b",
       "version_major": 2,
       "version_minor": 0
      },
      "text/plain": [
       "FloatText(value=43.79)"
      ]
     },
     "metadata": {},
     "output_type": "display_data"
    },
    {
     "data": {
      "application/vnd.jupyter.widget-view+json": {
       "model_id": "850c4f16d0774f4486561d55734e842a",
       "version_major": 2,
       "version_minor": 0
      },
      "text/plain": [
       "Label(value='area mean')"
      ]
     },
     "metadata": {},
     "output_type": "display_data"
    },
    {
     "data": {
      "application/vnd.jupyter.widget-view+json": {
       "model_id": "dfd0d6b52609447494207e22aa82e3d2",
       "version_major": 2,
       "version_minor": 0
      },
      "text/plain": [
       "FloatText(value=143.5)"
      ]
     },
     "metadata": {},
     "output_type": "display_data"
    },
    {
     "data": {
      "application/vnd.jupyter.widget-view+json": {
       "model_id": "850c4f16d0774f4486561d55734e842a",
       "version_major": 2,
       "version_minor": 0
      },
      "text/plain": [
       "Label(value='area mean')"
      ]
     },
     "metadata": {},
     "output_type": "display_data"
    },
    {
     "data": {
      "application/vnd.jupyter.widget-view+json": {
       "model_id": "dfd0d6b52609447494207e22aa82e3d2",
       "version_major": 2,
       "version_minor": 0
      },
      "text/plain": [
       "FloatText(value=143.5)"
      ]
     },
     "metadata": {},
     "output_type": "display_data"
    },
    {
     "data": {
      "application/vnd.jupyter.widget-view+json": {
       "model_id": "8edf7732b05a40258334b13ea73accf5",
       "version_major": 2,
       "version_minor": 0
      },
      "text/plain": [
       "Label(value='compactness mean')"
      ]
     },
     "metadata": {},
     "output_type": "display_data"
    },
    {
     "data": {
      "application/vnd.jupyter.widget-view+json": {
       "model_id": "1fb3df595af04cb5bd1196ce9260f68f",
       "version_major": 2,
       "version_minor": 0
      },
      "text/plain": [
       "FloatText(value=0.01938)"
      ]
     },
     "metadata": {},
     "output_type": "display_data"
    },
    {
     "data": {
      "application/vnd.jupyter.widget-view+json": {
       "model_id": "bf3922e2234e4c2cb6c0a0312673af74",
       "version_major": 2,
       "version_minor": 0
      },
      "text/plain": [
       "Label(value='concavity mean')"
      ]
     },
     "metadata": {},
     "output_type": "display_data"
    },
    {
     "data": {
      "application/vnd.jupyter.widget-view+json": {
       "model_id": "b957bf997ab2468a80e3eca13a0a3017",
       "version_major": 2,
       "version_minor": 0
      },
      "text/plain": [
       "FloatText(value=0.0)"
      ]
     },
     "metadata": {},
     "output_type": "display_data"
    },
    {
     "data": {
      "application/vnd.jupyter.widget-view+json": {
       "model_id": "1d45164fe5ce44449c69406661b47ae9",
       "version_major": 2,
       "version_minor": 0
      },
      "text/plain": [
       "Label(value='concave points mean')"
      ]
     },
     "metadata": {},
     "output_type": "display_data"
    },
    {
     "data": {
      "application/vnd.jupyter.widget-view+json": {
       "model_id": "bb9f5ff823af444e80d9c87e39319501",
       "version_major": 2,
       "version_minor": 0
      },
      "text/plain": [
       "FloatText(value=0.0)"
      ]
     },
     "metadata": {},
     "output_type": "display_data"
    },
    {
     "data": {
      "application/vnd.jupyter.widget-view+json": {
       "model_id": "72b2c9ae7fb54097a693f18613e7bf06",
       "version_major": 2,
       "version_minor": 0
      },
      "text/plain": [
       "Label(value='symmetry mean')"
      ]
     },
     "metadata": {},
     "output_type": "display_data"
    },
    {
     "data": {
      "application/vnd.jupyter.widget-view+json": {
       "model_id": "11e07924416242329ff71eea8114303f",
       "version_major": 2,
       "version_minor": 0
      },
      "text/plain": [
       "FloatText(value=0.106)"
      ]
     },
     "metadata": {},
     "output_type": "display_data"
    },
    {
     "data": {
      "application/vnd.jupyter.widget-view+json": {
       "model_id": "c98344fb23014122b16c78dda60f13d1",
       "version_major": 2,
       "version_minor": 0
      },
      "text/plain": [
       "Label(value='fractal dimension mean')"
      ]
     },
     "metadata": {},
     "output_type": "display_data"
    },
    {
     "data": {
      "application/vnd.jupyter.widget-view+json": {
       "model_id": "6d11025a81ae43018a7218dc5381e191",
       "version_major": 2,
       "version_minor": 0
      },
      "text/plain": [
       "FloatText(value=0.04996)"
      ]
     },
     "metadata": {},
     "output_type": "display_data"
    }
   ],
   "source": [
    "radius_meantext=widgets.Label('radius mean')                  \n",
    "radius_mean=widgets.FloatText(value=6.981)\n",
    "display(radius_meantext,radius_mean)\n",
    "\n",
    "texture_meantext=widgets.Label('texture mean')                   \n",
    "texture_mean=widgets.FloatText(value=9.71)\n",
    "display(texture_meantext,texture_mean)\n",
    "\n",
    "perimeter_meantext=widgets.Label('perimeter mean')                \n",
    "perimeter_mean=widgets.FloatText(value=43.79)\n",
    "display(perimeter_meantext,perimeter_mean)\n",
    "\n",
    "area_meantext=widgets.Label('area mean')\n",
    "area_mean=widgets.FloatText(value=143.5)\n",
    "display(area_meantext,area_mean)\n",
    "\n",
    "smoothness_meantext=widgets.Label('smoothness mean')\n",
    "smoothness_mean=widgets.FloatText(value=0.05263)\n",
    "display(area_meantext,area_mean)\n",
    "\n",
    "compactness_meantext=widgets.Label('compactness mean')\n",
    "compactness_mean=widgets.FloatText(value=0.01938)\n",
    "display(compactness_meantext,compactness_mean)\n",
    "\n",
    "concavity_meantext=widgets.Label('concavity mean')\n",
    "concavity_mean=widgets.FloatText(value=0.0)\n",
    "display(concavity_meantext,concavity_mean)\n",
    "\n",
    "concave_points_meantext=widgets.Label('concave points mean')\n",
    "concave_points_mean=widgets.FloatText(value=0.0)\n",
    "display(concave_points_meantext,concave_points_mean)\n",
    "\n",
    "symmetry_meantext=widgets.Label('symmetry mean')\n",
    "symmetry_mean=widgets.FloatText(value=0.106)\n",
    "display(symmetry_meantext,symmetry_mean)\n",
    "\n",
    "fractal_dimension_meantext=widgets.Label('fractal dimension mean')\n",
    "fractal_dimension_mean=widgets.FloatText(value=0.04996)\n",
    "display(fractal_dimension_meantext,fractal_dimension_mean)"
   ]
  },
  {
   "cell_type": "code",
   "execution_count": 15,
   "id": "8939b27e",
   "metadata": {},
   "outputs": [
    {
     "data": {
      "application/vnd.jupyter.widget-view+json": {
       "model_id": "df8bfb524be142f8ade00842312c553e",
       "version_major": 2,
       "version_minor": 0
      },
      "text/plain": [
       "Label(value='radius se')"
      ]
     },
     "metadata": {},
     "output_type": "display_data"
    },
    {
     "data": {
      "application/vnd.jupyter.widget-view+json": {
       "model_id": "bc41279bd1134baeb29fef874253fbaf",
       "version_major": 2,
       "version_minor": 0
      },
      "text/plain": [
       "FloatText(value=0.1115)"
      ]
     },
     "metadata": {},
     "output_type": "display_data"
    },
    {
     "data": {
      "application/vnd.jupyter.widget-view+json": {
       "model_id": "f188e59b041e43869f0ae0b5d1e47c61",
       "version_major": 2,
       "version_minor": 0
      },
      "text/plain": [
       "Label(value='texture se')"
      ]
     },
     "metadata": {},
     "output_type": "display_data"
    },
    {
     "data": {
      "application/vnd.jupyter.widget-view+json": {
       "model_id": "fa5cad2353f64ccebf28ceac34be90a4",
       "version_major": 2,
       "version_minor": 0
      },
      "text/plain": [
       "FloatText(value=0.3602)"
      ]
     },
     "metadata": {},
     "output_type": "display_data"
    },
    {
     "data": {
      "application/vnd.jupyter.widget-view+json": {
       "model_id": "b5f8915a234f4058be56629be7fc9718",
       "version_major": 2,
       "version_minor": 0
      },
      "text/plain": [
       "Label(value='perimeter se')"
      ]
     },
     "metadata": {},
     "output_type": "display_data"
    },
    {
     "data": {
      "application/vnd.jupyter.widget-view+json": {
       "model_id": "53fe6cc971824e5dad45ef867cd4dec3",
       "version_major": 2,
       "version_minor": 0
      },
      "text/plain": [
       "FloatText(value=0.757)"
      ]
     },
     "metadata": {},
     "output_type": "display_data"
    },
    {
     "data": {
      "application/vnd.jupyter.widget-view+json": {
       "model_id": "bfcbad228ad84affa8b52ce3c56ab174",
       "version_major": 2,
       "version_minor": 0
      },
      "text/plain": [
       "Label(value='area se')"
      ]
     },
     "metadata": {},
     "output_type": "display_data"
    },
    {
     "data": {
      "application/vnd.jupyter.widget-view+json": {
       "model_id": "c424f4f365e14caaaca4518558d41fc1",
       "version_major": 2,
       "version_minor": 0
      },
      "text/plain": [
       "FloatText(value=143.5)"
      ]
     },
     "metadata": {},
     "output_type": "display_data"
    },
    {
     "data": {
      "application/vnd.jupyter.widget-view+json": {
       "model_id": "73700a58d5b749548b3f15a53d3f1869",
       "version_major": 2,
       "version_minor": 0
      },
      "text/plain": [
       "Label(value='smoothness se')"
      ]
     },
     "metadata": {},
     "output_type": "display_data"
    },
    {
     "data": {
      "application/vnd.jupyter.widget-view+json": {
       "model_id": "d826556882dd43deb6f3ee5a35c206b8",
       "version_major": 2,
       "version_minor": 0
      },
      "text/plain": [
       "FloatText(value=0.001713)"
      ]
     },
     "metadata": {},
     "output_type": "display_data"
    },
    {
     "data": {
      "application/vnd.jupyter.widget-view+json": {
       "model_id": "fd2074eaa83c407e87fc1461c62af82f",
       "version_major": 2,
       "version_minor": 0
      },
      "text/plain": [
       "Label(value='compactness se')"
      ]
     },
     "metadata": {},
     "output_type": "display_data"
    },
    {
     "data": {
      "application/vnd.jupyter.widget-view+json": {
       "model_id": "096cf52a305842efa98b8c158480ea56",
       "version_major": 2,
       "version_minor": 0
      },
      "text/plain": [
       "FloatText(value=0.002252)"
      ]
     },
     "metadata": {},
     "output_type": "display_data"
    },
    {
     "data": {
      "application/vnd.jupyter.widget-view+json": {
       "model_id": "4041fdeec30e4bf0ac915bc50575df2c",
       "version_major": 2,
       "version_minor": 0
      },
      "text/plain": [
       "Label(value='concavity se')"
      ]
     },
     "metadata": {},
     "output_type": "display_data"
    },
    {
     "data": {
      "application/vnd.jupyter.widget-view+json": {
       "model_id": "cac7f7db88024ecd88a929c892082556",
       "version_major": 2,
       "version_minor": 0
      },
      "text/plain": [
       "FloatText(value=0.0)"
      ]
     },
     "metadata": {},
     "output_type": "display_data"
    },
    {
     "data": {
      "application/vnd.jupyter.widget-view+json": {
       "model_id": "e7a9b1c0d9e047ea8479d7c63cb0a7bc",
       "version_major": 2,
       "version_minor": 0
      },
      "text/plain": [
       "Label(value='concave points se')"
      ]
     },
     "metadata": {},
     "output_type": "display_data"
    },
    {
     "data": {
      "application/vnd.jupyter.widget-view+json": {
       "model_id": "9e2448db3ca74237a371c55785feaa39",
       "version_major": 2,
       "version_minor": 0
      },
      "text/plain": [
       "FloatText(value=0.0)"
      ]
     },
     "metadata": {},
     "output_type": "display_data"
    },
    {
     "data": {
      "application/vnd.jupyter.widget-view+json": {
       "model_id": "d5536611bb71456cb12de37a0fbfe08f",
       "version_major": 2,
       "version_minor": 0
      },
      "text/plain": [
       "Label(value='symmetry se')"
      ]
     },
     "metadata": {},
     "output_type": "display_data"
    },
    {
     "data": {
      "application/vnd.jupyter.widget-view+json": {
       "model_id": "360c7914f612492abacb03fd00a1b789",
       "version_major": 2,
       "version_minor": 0
      },
      "text/plain": [
       "FloatText(value=0.007882)"
      ]
     },
     "metadata": {},
     "output_type": "display_data"
    },
    {
     "data": {
      "application/vnd.jupyter.widget-view+json": {
       "model_id": "42271a50578b4c2c8b893584c30a5364",
       "version_major": 2,
       "version_minor": 0
      },
      "text/plain": [
       "Label(value='fractal dimension se')"
      ]
     },
     "metadata": {},
     "output_type": "display_data"
    },
    {
     "data": {
      "application/vnd.jupyter.widget-view+json": {
       "model_id": "62001ec5d9274370a562fd34fd2e9896",
       "version_major": 2,
       "version_minor": 0
      },
      "text/plain": [
       "FloatText(value=0.000895)"
      ]
     },
     "metadata": {},
     "output_type": "display_data"
    }
   ],
   "source": [
    "radius_setext=widgets.Label('radius se')                  \n",
    "radius_se=widgets.FloatText(value=0.1115)\n",
    "display(radius_setext,radius_se)\n",
    "\n",
    "texture_setext=widgets.Label('texture se')                   \n",
    "texture_se=widgets.FloatText(value=0.3602)\n",
    "display(texture_setext,texture_se)\n",
    "\n",
    "perimeter_setext=widgets.Label('perimeter se')                \n",
    "perimeter_se=widgets.FloatText(value=0.757)\n",
    "display(perimeter_setext,perimeter_se)\n",
    "\n",
    "area_setext=widgets.Label('area se')\n",
    "area_se=widgets.FloatText(value=143.5)\n",
    "display(area_setext,area_se)\n",
    "\n",
    "smoothness_setext=widgets.Label('smoothness se')\n",
    "smoothness_se=widgets.FloatText(value=0.001713)\n",
    "display(smoothness_setext,smoothness_se)\n",
    "\n",
    "compactness_setext=widgets.Label('compactness se')\n",
    "compactness_se=widgets.FloatText(value=0.002252)\n",
    "display(compactness_setext,compactness_se)\n",
    "\n",
    "concavity_setext=widgets.Label('concavity se')\n",
    "concavity_se=widgets.FloatText(value=0.0)\n",
    "display(concavity_setext,concavity_se)\n",
    "\n",
    "concave_points_setext=widgets.Label('concave points se')\n",
    "concave_points_se=widgets.FloatText(value=0.0)\n",
    "display(concave_points_setext,concave_points_se)\n",
    "\n",
    "symmetry_setext=widgets.Label('symmetry se')\n",
    "symmetry_se=widgets.FloatText(value=0.007882)\n",
    "display(symmetry_setext,symmetry_se)\n",
    "\n",
    "fractal_dimension_setext=widgets.Label('fractal dimension se')\n",
    "fractal_dimension_se=widgets.FloatText(value=0.000895)\n",
    "display(fractal_dimension_setext,fractal_dimension_se)"
   ]
  },
  {
   "cell_type": "code",
   "execution_count": 16,
   "id": "ed526e3f",
   "metadata": {},
   "outputs": [
    {
     "data": {
      "application/vnd.jupyter.widget-view+json": {
       "model_id": "893185dfbf684a448c2f7f6805c88352",
       "version_major": 2,
       "version_minor": 0
      },
      "text/plain": [
       "Label(value='radius worst')"
      ]
     },
     "metadata": {},
     "output_type": "display_data"
    },
    {
     "data": {
      "application/vnd.jupyter.widget-view+json": {
       "model_id": "c10c7ea728f5482eb471a8916be7a842",
       "version_major": 2,
       "version_minor": 0
      },
      "text/plain": [
       "FloatText(value=7.93)"
      ]
     },
     "metadata": {},
     "output_type": "display_data"
    },
    {
     "data": {
      "application/vnd.jupyter.widget-view+json": {
       "model_id": "2ef162aa2c1745de8c9bac0b82a1e4c0",
       "version_major": 2,
       "version_minor": 0
      },
      "text/plain": [
       "Label(value='texture worst')"
      ]
     },
     "metadata": {},
     "output_type": "display_data"
    },
    {
     "data": {
      "application/vnd.jupyter.widget-view+json": {
       "model_id": "1dd54c8e77844f1bae408fcb957424fb",
       "version_major": 2,
       "version_minor": 0
      },
      "text/plain": [
       "FloatText(value=12.02)"
      ]
     },
     "metadata": {},
     "output_type": "display_data"
    },
    {
     "data": {
      "application/vnd.jupyter.widget-view+json": {
       "model_id": "df210872c3bf4bbebdd695c5d3dc4d51",
       "version_major": 2,
       "version_minor": 0
      },
      "text/plain": [
       "Label(value='perimeter worst')"
      ]
     },
     "metadata": {},
     "output_type": "display_data"
    },
    {
     "data": {
      "application/vnd.jupyter.widget-view+json": {
       "model_id": "713561cf59074f26b2e9c55117dfa5ee",
       "version_major": 2,
       "version_minor": 0
      },
      "text/plain": [
       "FloatText(value=50.41)"
      ]
     },
     "metadata": {},
     "output_type": "display_data"
    },
    {
     "data": {
      "application/vnd.jupyter.widget-view+json": {
       "model_id": "940a576e45e94611885062a107aa65b6",
       "version_major": 2,
       "version_minor": 0
      },
      "text/plain": [
       "Label(value='area worst')"
      ]
     },
     "metadata": {},
     "output_type": "display_data"
    },
    {
     "data": {
      "application/vnd.jupyter.widget-view+json": {
       "model_id": "d1e90d0dd80943d8b76d3043f662a3fa",
       "version_major": 2,
       "version_minor": 0
      },
      "text/plain": [
       "FloatText(value=185.2)"
      ]
     },
     "metadata": {},
     "output_type": "display_data"
    },
    {
     "data": {
      "application/vnd.jupyter.widget-view+json": {
       "model_id": "726e9af0517943c785d407b297651f6a",
       "version_major": 2,
       "version_minor": 0
      },
      "text/plain": [
       "Label(value='smoothness worst')"
      ]
     },
     "metadata": {},
     "output_type": "display_data"
    },
    {
     "data": {
      "application/vnd.jupyter.widget-view+json": {
       "model_id": "56ce74cae76448cfaa174af55e045f3b",
       "version_major": 2,
       "version_minor": 0
      },
      "text/plain": [
       "FloatText(value=0.07117)"
      ]
     },
     "metadata": {},
     "output_type": "display_data"
    },
    {
     "data": {
      "application/vnd.jupyter.widget-view+json": {
       "model_id": "ad6a4a00158d47c580c7eb7bfc451288",
       "version_major": 2,
       "version_minor": 0
      },
      "text/plain": [
       "Label(value='compactness worst')"
      ]
     },
     "metadata": {},
     "output_type": "display_data"
    },
    {
     "data": {
      "application/vnd.jupyter.widget-view+json": {
       "model_id": "b7cc67e9c2714e54be6b9b482eb16d77",
       "version_major": 2,
       "version_minor": 0
      },
      "text/plain": [
       "FloatText(value=0.02729)"
      ]
     },
     "metadata": {},
     "output_type": "display_data"
    },
    {
     "data": {
      "application/vnd.jupyter.widget-view+json": {
       "model_id": "afc1809a5ab748b38d6d8329cd34cc6a",
       "version_major": 2,
       "version_minor": 0
      },
      "text/plain": [
       "Label(value='concavity se')"
      ]
     },
     "metadata": {},
     "output_type": "display_data"
    },
    {
     "data": {
      "application/vnd.jupyter.widget-view+json": {
       "model_id": "ce94dabd856d4ab88733a99d411d6f07",
       "version_major": 2,
       "version_minor": 0
      },
      "text/plain": [
       "FloatText(value=0.0)"
      ]
     },
     "metadata": {},
     "output_type": "display_data"
    },
    {
     "data": {
      "application/vnd.jupyter.widget-view+json": {
       "model_id": "b149bd40017a4d7782a9a8419399e4f4",
       "version_major": 2,
       "version_minor": 0
      },
      "text/plain": [
       "Label(value='concave points worst')"
      ]
     },
     "metadata": {},
     "output_type": "display_data"
    },
    {
     "data": {
      "application/vnd.jupyter.widget-view+json": {
       "model_id": "a1d49a6d652a4ba3b4927bf29a26e04c",
       "version_major": 2,
       "version_minor": 0
      },
      "text/plain": [
       "FloatText(value=0.0)"
      ]
     },
     "metadata": {},
     "output_type": "display_data"
    },
    {
     "data": {
      "application/vnd.jupyter.widget-view+json": {
       "model_id": "dcd4267659eb4f9fa47b6ee161c213ad",
       "version_major": 2,
       "version_minor": 0
      },
      "text/plain": [
       "Label(value='symmetry worst')"
      ]
     },
     "metadata": {},
     "output_type": "display_data"
    },
    {
     "data": {
      "application/vnd.jupyter.widget-view+json": {
       "model_id": "422274c3569444259d6ab09829373436",
       "version_major": 2,
       "version_minor": 0
      },
      "text/plain": [
       "FloatText(value=0.1565)"
      ]
     },
     "metadata": {},
     "output_type": "display_data"
    },
    {
     "data": {
      "application/vnd.jupyter.widget-view+json": {
       "model_id": "782ec40766c440ceb40a2674fa6d8a15",
       "version_major": 2,
       "version_minor": 0
      },
      "text/plain": [
       "Label(value='fractal dimension worst')"
      ]
     },
     "metadata": {},
     "output_type": "display_data"
    },
    {
     "data": {
      "application/vnd.jupyter.widget-view+json": {
       "model_id": "663cb447fce84fd5a27128ee78fcf106",
       "version_major": 2,
       "version_minor": 0
      },
      "text/plain": [
       "FloatText(value=0.05504)"
      ]
     },
     "metadata": {},
     "output_type": "display_data"
    }
   ],
   "source": [
    "radius_worsttext=widgets.Label('radius worst')                  \n",
    "radius_worst=widgets.FloatText(value=7.93)\n",
    "display(radius_worsttext,radius_worst)\n",
    "\n",
    "texture_worsttext=widgets.Label('texture worst')                   \n",
    "texture_worst=widgets.FloatText(value=12.02)\n",
    "display(texture_worsttext,texture_worst)\n",
    "\n",
    "perimeter_worsttext=widgets.Label('perimeter worst')                \n",
    "perimeter_worst=widgets.FloatText(value=50.41)\n",
    "display(perimeter_worsttext,perimeter_worst)\n",
    "\n",
    "area_worsttext=widgets.Label('area worst')\n",
    "area_worst=widgets.FloatText(value=185.2)\n",
    "display(area_worsttext,area_worst)\n",
    "\n",
    "smoothness_worsttext=widgets.Label('smoothness worst')\n",
    "smoothness_worst=widgets.FloatText(value=0.07117)\n",
    "display(smoothness_worsttext,smoothness_worst)\n",
    "\n",
    "compactness_worsttext=widgets.Label('compactness worst')\n",
    "compactness_worst=widgets.FloatText(value=0.02729)\n",
    "display(compactness_worsttext,compactness_worst)\n",
    "\n",
    "concavity_worsttext=widgets.Label('concavity se')\n",
    "concavity_worst=widgets.FloatText(value=0.0)\n",
    "display(concavity_worsttext,concavity_worst)\n",
    "\n",
    "concave_points_worsttext=widgets.Label('concave points worst')\n",
    "concave_points_worst=widgets.FloatText(value=0.0)\n",
    "display(concave_points_worsttext,concave_points_worst)\n",
    "\n",
    "symmetry_worsttext=widgets.Label('symmetry worst')\n",
    "symmetry_worst=widgets.FloatText(value=0.1565)\n",
    "display(symmetry_worsttext,symmetry_worst)\n",
    "\n",
    "fractal_dimension_worsttext=widgets.Label('fractal dimension worst')\n",
    "fractal_dimension_worst=widgets.FloatText(value=0.05504)\n",
    "display(fractal_dimension_worsttext,fractal_dimension_worst)"
   ]
  },
  {
   "cell_type": "code",
   "execution_count": 17,
   "id": "1baa97c6",
   "metadata": {},
   "outputs": [],
   "source": [
    "radius_mean=radius_mean.value\n",
    "           \n",
    "texture_mean=texture_mean.value\n",
    "             \n",
    "perimeter_mean=perimeter_mean.value\n",
    "\n",
    "area_mean=area_mean.value\n",
    "\n",
    "smoothness_mean=smoothness_mean.value\n",
    "\n",
    "compactness_mean=compactness_mean.value\n",
    "\n",
    "concavity_mean=concavity_mean.value\n",
    "\n",
    "concave_points_mean=concave_points_mean.value\n",
    "\n",
    "symmetry_mean=symmetry_mean.value\n",
    "\n",
    "fractal_dimension_mean=fractal_dimension_mean.value"
   ]
  },
  {
   "cell_type": "code",
   "execution_count": 18,
   "id": "06682fb8",
   "metadata": {},
   "outputs": [],
   "source": [
    "                \n",
    "radius_se=radius_se.value\n",
    "           \n",
    "texture_se=texture_se.value\n",
    "             \n",
    "perimeter_se=perimeter_se.value\n",
    "\n",
    "area_se=area_se.value\n",
    "\n",
    "smoothness_se=smoothness_se.value\n",
    "\n",
    "compactness_se=compactness_se.value\n",
    "\n",
    "concavity_se=concavity_se.value\n",
    "\n",
    "concave_points_se=concave_points_se.value\n",
    "\n",
    "symmetry_se=symmetry_se.value\n",
    "\n",
    "fractal_dimension_se=fractal_dimension_se.value\n"
   ]
  },
  {
   "cell_type": "code",
   "execution_count": 19,
   "id": "a80ef2a1",
   "metadata": {},
   "outputs": [],
   "source": [
    "radius_worst=radius_worst.value\n",
    "           \n",
    "texture_worst=texture_worst.value\n",
    "             \n",
    "perimeter_worst=perimeter_worst.value\n",
    "\n",
    "area_worst=area_worst.value\n",
    "\n",
    "smoothness_worst=smoothness_worst.value\n",
    "\n",
    "compactness_worst=compactness_worst.value\n",
    "\n",
    "concavity_worst=concavity_worst.value\n",
    "\n",
    "concave_points_worst=concave_points_worst.value\n",
    "\n",
    "symmetry_worst=symmetry_worst.value\n",
    "\n",
    "fractal_dimension_worst=fractal_dimension_worst.value"
   ]
  },
  {
   "cell_type": "code",
   "execution_count": 20,
   "id": "15baf1bd",
   "metadata": {},
   "outputs": [],
   "source": [
    "arr={'radius_mean':[radius_mean],'texture_mean':[texture_mean],'perimeter_mean':[perimeter_mean],'area_mean':[area_mean],'smoothness_mean':[smoothness_mean],'compactness_mean':[compactness_mean],'concavity_mean':[concavity_mean],\n",
    "     'concave points_mean':[concave_points_mean],'symmetry_mean':[symmetry_mean],'fractal_dimension_mean':[fractal_dimension_mean],\n",
    "     'radius_se':[radius_se],'texture_se':[texture_se],'perimeter_se':[perimeter_se],'area_se':[area_se],'smoothness_se':[smoothness_se],'compactness_se':[compactness_se],'concavity_se':[concavity_se],'concave points_se':[concave_points_se],\n",
    "     'symmetry_se':[symmetry_se],'fractal_dimension_se':[fractal_dimension_se],\n",
    "     'radius_worst':[radius_worst],'texture_worst':[texture_worst],'perimeter_worst':[perimeter_worst],'area_worst':[area_worst],'smoothness_worst':[smoothness_worst],'compactness_worst':[compactness_worst],'concavity_worst':[concavity_worst],\n",
    "     'concave points_worst':[concave_points_worst],'symmetry_worst':[symmetry_worst],'fractal_dimension_worst':[fractal_dimension_worst]}\n",
    "\n",
    "\n",
    "dg=pd.DataFrame(arr)\n",
    "#dg=df.dropna(axis=1)\n",
    "#ouputforme=str(arr)\n",
    "#h=HTML(value=ouputforme)\n",
    "\n"
   ]
  },
  {
   "cell_type": "code",
   "execution_count": 21,
   "id": "84f21b70",
   "metadata": {},
   "outputs": [],
   "source": [
    "#split the dataset into independent (X) and dependent column (Y) data sets.\n",
    "#Y has the dagonostic whether the patient have cancer or not.While X have the features for cancer detection\n",
    "X = df.iloc[:,0:29].values\n",
    "Y=df.iloc[:,1].values\n"
   ]
  },
  {
   "cell_type": "code",
   "execution_count": 22,
   "id": "efbdfa49",
   "metadata": {},
   "outputs": [],
   "source": [
    "#Show another way to get metrics of the models\n",
    "from sklearn.metrics import classification_report\n",
    "from sklearn.metrics import accuracy_score\n",
    "\n",
    "\n",
    "#for i in range (len (model)): \n",
    "  #  print('Model',i)\n",
    "  #  print(classification_report(Y, model[i].predict(X)))\n",
    "  #  print(accuracy_score(Y, model[i].predict(X)))\n",
    "   # print()\n",
    "    "
   ]
  },
  {
   "cell_type": "code",
   "execution_count": 23,
   "id": "1a7e3911",
   "metadata": {},
   "outputs": [
    {
     "data": {
      "application/vnd.jupyter.widget-view+json": {
       "model_id": "8bb9a6ce2e68493fa988e49ee092290f",
       "version_major": 2,
       "version_minor": 0
      },
      "text/plain": [
       "VBox(children=(Button(description='My Button', style=ButtonStyle()), Output()))"
      ]
     },
     "metadata": {},
     "output_type": "display_data"
    }
   ],
   "source": [
    "button = widgets.Button(description='My Button')\n",
    "out = widgets.Output()\n",
    "def on_button_clicked(_):\n",
    "      # \"linking function with output\"\n",
    "      with out:\n",
    "          # what happens when we press the button\n",
    "          clear_output()\n",
    "          print('You Entered in the following numbers')\n",
    "          display(dg)\n",
    "          for i in range (len (model)): \n",
    "            print('Model',i)\n",
    "            print(classification_report(Y, model[i].predict(X)))\n",
    "            print(accuracy_score(Y, model[i].predict(X)))\n",
    "            print()\n",
    "# linking button and function together using a button's method\n",
    "button.on_click(on_button_clicked)\n",
    "# displaying button and its output together\n",
    "widgets.VBox([button,out])"
   ]
  },
  {
   "cell_type": "code",
   "execution_count": 24,
   "id": "b965cb16",
   "metadata": {},
   "outputs": [],
   "source": [
    "#=pd.DataFrame(arr)\n",
    "#pred = model.predict(arr)\n",
    "#print(pred)"
   ]
  },
  {
   "cell_type": "code",
   "execution_count": 25,
   "id": "d4bbe2f6",
   "metadata": {},
   "outputs": [
    {
     "name": "stdout",
     "output_type": "stream",
     "text": [
      "Note: you may need to restart the kernel to use updated packages.\n"
     ]
    }
   ],
   "source": [
    "pip freeze > requirements.txt"
   ]
  }
 ],
 "metadata": {
  "kernelspec": {
   "display_name": "Python 3",
   "language": "python",
   "name": "python3"
  },
  "language_info": {
   "codemirror_mode": {
    "name": "ipython",
    "version": 3
   },
   "file_extension": ".py",
   "mimetype": "text/x-python",
   "name": "python",
   "nbconvert_exporter": "python",
   "pygments_lexer": "ipython3",
   "version": "3.8.3"
  }
 },
 "nbformat": 4,
 "nbformat_minor": 5
}
